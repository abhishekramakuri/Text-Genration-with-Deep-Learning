{
  "cells": [
    {
      "cell_type": "code",
      "execution_count": null,
      "metadata": {
        "id": "Qx4Mgy6gS6ot"
      },
      "outputs": [],
      "source": [
        "#Step1"
      ]
    },
    {
      "cell_type": "markdown",
      "source": [
        "# Step 1: Data Collection and Preprocessing\n",
        "\n",
        "In this step we collected a text dataset, cleaned the data, tokenized it, and prepared the input sequences necessary for training the Recurrent Neural Network (RNN) model.\n",
        "\n",
        "## 1.1 Collect the Dataset\n",
        "- **Objective**: The first task is to obtain a dataset for text generation. We have used the text dataset \"A Tale of Two Cities\".  \n",
        "- **Action**: Downloaded the dataset. Ensured that the dataset is in a usable format which is plain text. We will use the text file as our dataset source.\n"
      ],
      "metadata": {
        "id": "FmGAcIWHkU-2"
      }
    },
    {
      "cell_type": "code",
      "execution_count": null,
      "metadata": {
        "colab": {
          "base_uri": "https://localhost:8080/"
        },
        "id": "-fJ64p0eOQ_X",
        "outputId": "e55f1632-e7eb-495d-95f9-07421b676ee0"
      },
      "outputs": [
        {
          "output_type": "stream",
          "name": "stdout",
          "text": [
            "Num GPUs Available: 1\n",
            "Using device: /device:GPU:0\n",
            "﻿The Project Gutenberg eBook of A Tale of Two Cities\n",
            "    \n",
            "This ebook is for the use of anyone anywhere in the United States and\n",
            "most other parts of the world at no cost and with almost no restrictions\n",
            "whatsoever. You may copy it, give it away or re-use it under the terms\n",
            "of the Project Gutenberg License included with this ebook or online\n",
            "at www.gutenberg.org. If you are not located in the United States,\n",
            "you will have to check the laws of the country where you are located\n",
            "before using this eBook.\n",
            "\n",
            "Title: A Tale of Two Cities\n",
            "\n",
            "Author: Charles Dickens\n",
            "\n",
            "Release date: January 1, 1994 [eBook #98]\n",
            "                Most recently updated: March 27, 2021\n",
            "\n",
            "Language: English\n",
            "\n",
            "Credits: Judith Boss and David Widger\n",
            "\n",
            "\n",
            "*** START OF THE PROJECT GUTENBERG EBOOK A TALE OF TWO CITIES ***\n",
            "\n",
            "\n",
            "\n",
            "\n",
            "A TALE OF TWO CITIES\n",
            "\n",
            "A STORY OF THE FRENCH REVOLUTION\n",
            "\n",
            "By Charles Dickens\n",
            "\n",
            "\n",
            "CONTENTS\n",
            "\n",
            "\n",
            "     Book the First--Recalled to Life\n",
            "\n",
            "     CHAPTER I      The Period\n",
            "     CHAPTER II     The Mail\n",
            "     CHAPTER III    The Night Shadows\n",
            "     CHAPTER IV     The Preparation\n",
            "     CHAPTER V      The Wine-shop\n",
            "     CHAPTER VI     The Shoemaker\n",
            "\n",
            "\n",
            "     Book the Second--the Golden Thread\n",
            "\n",
            "     CHAPTER I      Five Years Later\n",
            "     CHAPTER II     A Sight\n",
            "     CHAPTER III    A Disappointment\n",
            "     CHAPTER IV     Congratulatory\n",
            "     CHAPTER V      The Jackal\n",
            "     CHAPTER VI     Hundreds of People\n",
            "     CHAPTER VII    Monseigneur in Town\n",
            "     CHAPTER VIII   Monseigneur in the Country\n",
            "     CHAPTER IX     The Gorgon’s Head\n",
            "     CHAPTER X      Two Promises\n",
            "     CHAPTER XI     A Companion Picture\n",
            "     CHAPTER XII    The Fellow of Delicacy\n",
            "     CHAPTER XIII   The Fellow of no Delicacy\n",
            "     CHAPTER XIV    The Honest Tradesman\n",
            "     CHAPTER XV     Knitting\n",
            "     CHAPTER XVI    Still Knitting\n",
            "     CHAPTER XVII   One Night\n",
            "     CHAPTER XVIII  Nine Days\n",
            "     CHAPTER XIX    An Opinion\n",
            "     CHAPTER XX     A Plea\n",
            "     CHAPTER XXI    Echoing Footsteps\n",
            "     CHAPTER XXII   The Sea Still Rises\n",
            "     CHAPTER XXIII  Fire Rises\n",
            "     CHAPTER XXIV   \n"
          ]
        }
      ],
      "source": [
        "\n",
        "import tensorflow as tf\n",
        "print(\"Num GPUs Available:\", len(tf.config.list_physical_devices('GPU')))\n",
        "print(\"Using device:\", tf.test.gpu_device_name())\n",
        "\n",
        "# Reading the text file.\n",
        "file_path = \"A Tale of Two Cities.txt\"\n",
        "\n",
        "with open(file_path, 'r', encoding='utf-8') as f:\n",
        "    text = f.read()\n",
        "\n",
        "print(text[:2000])  # Displaying initial text\n"
      ]
    },
    {
      "cell_type": "markdown",
      "source": [],
      "metadata": {
        "id": "3G63io1Fm9eH"
      }
    },
    {
      "cell_type": "markdown",
      "source": [
        "## 1.2 Cleaning the Text\n",
        "- **Objective**: The goal of this task is to clean the dataset by removing unwanted characters, punctuation, and formatting. This step ensures that the data is uniform and easier for the model.\n",
        "- **Actions**:\n",
        "  1. **Removed unwanted characters**: We use regular expressions to eliminate non-alphabetic characters, such as numbers, special symbols, and punctuation marks.\n",
        "  2. **Converted to lowercase**: To reduce the complexity and avoid case-sensitivity, all the characters in the text are converted to lowercase.\n",
        "  \n",
        "\n"
      ],
      "metadata": {
        "id": "a2CEmNu4jlZW"
      }
    },
    {
      "cell_type": "code",
      "execution_count": null,
      "metadata": {
        "colab": {
          "base_uri": "https://localhost:8080/"
        },
        "id": "yocX-915Spk6",
        "outputId": "bf75ca92-7b42-4c76-8442-3a23505b338f"
      },
      "outputs": [
        {
          "output_type": "stream",
          "name": "stdout",
          "text": [
            "a tale of two cities a story of the french revolution by charles dickens contents book the firstrecalled to life chapter i the period chapter ii the mail chapter iii the night shadows chapter iv the preparation chapter v the wineshop chapter vi the shoemaker book the secondthe golden thread chapter i five years later chapter ii a sight chapter iii a disappointment chapter iv congratulatory chapter v the jackal chapter vi hundreds of people chapter vii monseigneur in town chapter viii monseigneur in the country chapter ix the gorgons head chapter x two promises chapter xi a companion picture chapter xii the fellow of delicacy chapter xiii the fellow of no delicacy chapter xiv the honest tradesman chapter xv knitting chapter xvi still knitting chapter xvii one night chapter xviii nine days chapter xix an opinion chapter xx a plea chapter xxi echoing footsteps chapter xxii the sea still rises chapter xxiii fire rises chapter xxiv drawn to the loadstone rock book the thirdthe track of a st\n"
          ]
        }
      ],
      "source": [
        "import re\n",
        "\n",
        "# Define markers.\n",
        "start_marker = \"*** START OF THE PROJECT GUTENBERG EBOOK A TALE OF TWO CITIES ***\"\n",
        "end_marker = \"*** END OF THE PROJECT GUTENBERG EBOOK A TALE OF TWO CITIES ***\"\n",
        "\n",
        "# Extract content between the markers we defined.\n",
        "start_idx = text.find(start_marker) + len(start_marker)\n",
        "end_idx = text.find(end_marker)\n",
        "cleaned_text = text[start_idx:end_idx].strip()\n",
        "\n",
        "# Compiling regex patterns\n",
        "basic_clean = re.compile(r'[^a-z0-9.,!?;:\\'\\\"\\s\\n]')\n",
        "normalize_spaces = re.compile(r'\\s+')\n",
        "\n",
        "# Cleaning and normalizing the text. We also convert to lowercase\n",
        "cleaned_text = cleaned_text.lower()\n",
        "cleaned_text = basic_clean.sub('', cleaned_text)\n",
        "cleaned_text = normalize_spaces.sub(' ', cleaned_text)\n",
        "\n",
        "print(cleaned_text[:1000])\n"
      ]
    },
    {
      "cell_type": "markdown",
      "source": [
        "## 1.3 Tokenizing the Text\n",
        "\n",
        "**Objective**: In this step, we convert the cleaned text into tokens (characters), which are used by the Recurrent Neural Network (RNN) for learning the sequence of characters. Additionally, we create a mapping from each character to a unique integer.\n",
        "\n",
        "### Actions:\n",
        "1. **Generate a vocabulary**: A vocabulary is created by identifying the unique characters in the cleaned text.\n",
        "\n",
        "2. **Create character-to-index and index-to-character mappings**: We then map each unique character to an integer index and vice versa.\n",
        "\n",
        "3. **Encode the text**: Finally, we encode the entire cleaned text as a sequence of integers, where each integer represents a unique character.\n",
        "\n",
        "\n"
      ],
      "metadata": {
        "id": "WcMr3KaBombb"
      }
    },
    {
      "cell_type": "code",
      "execution_count": null,
      "metadata": {
        "colab": {
          "base_uri": "https://localhost:8080/"
        },
        "id": "mv0eizFqSv7A",
        "outputId": "52ad5aed-5663-4c54-d805-26eefd1238d9"
      },
      "outputs": [
        {
          "output_type": "stream",
          "name": "stdout",
          "text": [
            "Unique characters: 39\n",
            "[' ', '!', ',', '.', '1', '2', '5', '6', '7', '9', ':', ';', '?', 'a', 'b', 'c', 'd', 'e', 'f', 'g', 'h', 'i', 'j', 'k', 'l', 'm', 'n', 'o', 'p', 'q', 'r', 's', 't', 'u', 'v', 'w', 'x', 'y', 'z']\n",
            "Encoded sample: [13  0 32 13 24 17  0 27 18  0 32 35 27  0 15 21 32 21 17 31]\n"
          ]
        }
      ],
      "source": [
        "# Created a vocabulary which is a sorted set of unique characters\n",
        "vocab = sorted(set(cleaned_text))\n",
        "vocab_size = len(vocab)\n",
        "print(f\"Unique characters: {vocab_size}\")\n",
        "print(vocab)\n",
        "\n",
        "\n",
        "char2idx = {char: idx for idx, char in enumerate(vocab)}\n",
        "idx2char = dict(enumerate(vocab))\n",
        "\n",
        "# Encode the text into a array of integers\n",
        "import numpy as np\n",
        "encoded_text = np.array([char2idx[c] for c in cleaned_text], dtype=np.uint16)\n",
        "print(f\"Encoded sample: {encoded_text[:20]}\")\n"
      ]
    },
    {
      "cell_type": "markdown",
      "source": [
        "## 1.4 Creating Input Sequences\n",
        "\n",
        "**Objective**: To train the RNN, we need to prepare input sequences that represent chunks of text, as well as corresponding target characters (the character that follows each sequence). These sequences are then fed into the model for training.\n",
        "\n",
        "### Actions:\n",
        "1. **Define sequence length**: A fixed sequence length is defined (here 100 characters per sequence).\n",
        "\n",
        "2. **Generate input-output pairs**:we generate input sequences and their corresponding target characters.\n",
        "\n",
        "\n"
      ],
      "metadata": {
        "id": "6fZQj2j3tBwT"
      }
    },
    {
      "cell_type": "code",
      "execution_count": null,
      "metadata": {
        "colab": {
          "base_uri": "https://localhost:8080/"
        },
        "id": "nSaqWzQBS-mk",
        "outputId": "0ad6ce1b-1836-431d-f653-c9e2390ca141"
      },
      "outputs": [
        {
          "output_type": "stream",
          "name": "stdout",
          "text": [
            "Total sequences: 743584\n",
            "Example input: [13  0 32 13 24 17  0 27 18  0 32 35 27  0 15 21 32 21 17 31  0 13  0 31\n",
            " 32 27 30 37  0 27 18  0 32 20 17  0 18 30 17 26 15 20  0 30 17 34 27 24\n",
            " 33 32 21 27 26  0 14 37  0 15 20 13 30 24 17 31  0 16 21 15 23 17 26 31\n",
            "  0 15 27 26 32 17 26 32 31  0 14 27 27 23  0 32 20 17  0 18 21 30 31 32\n",
            " 30 17 15 13]\n",
            "Decoded input: a tale of two cities a story of the french revolution by charles dickens contents book the firstreca\n",
            "Decoded target:  tale of two cities a story of the french revolution by charles dickens contents book the firstrecal\n"
          ]
        }
      ],
      "source": [
        "import numpy as np\n",
        "\n",
        "# Define sequence length\n",
        "seq_length = 100\n",
        "step = 1\n",
        "\n",
        "# Calculating total number of sequences\n",
        "num_sequences = (len(encoded_text) - seq_length) // step\n",
        "\n",
        "# Allocated arrays for the sequences\n",
        "input_sequences = np.zeros((num_sequences, seq_length), dtype=np.uint16)\n",
        "target_sequences = np.zeros((num_sequences, seq_length), dtype=np.uint16)\n",
        "\n",
        "for i in range(num_sequences):\n",
        "    input_sequences[i] = encoded_text[i:i + seq_length]\n",
        "    target_sequences[i] = encoded_text[i + 1:i + seq_length + 1]\n",
        "\n",
        "\n",
        "print(f\"Total sequences: {len(input_sequences)}\")\n",
        "print(f\"Example input: {input_sequences[0]}\")\n",
        "print(f\"Decoded input: {''.join([idx2char[i] for i in input_sequences[0]])}\")\n",
        "print(f\"Decoded target: {''.join([idx2char[i] for i in target_sequences[0]])}\")\n"
      ]
    },
    {
      "cell_type": "code",
      "execution_count": null,
      "metadata": {
        "id": "p3alk-qFTHXi"
      },
      "outputs": [],
      "source": [
        "# Step 2"
      ]
    },
    {
      "cell_type": "markdown",
      "source": [
        "# Step 2: Building a Basic RNN\n",
        "\n",
        "In this step, we will define the architecture for a Recurrent Neural Network (RNN) that will be used for text generation.\n",
        "\n",
        "## 2.1 Define the RNN Architecture\n",
        "- **Objective**: In this task, we define the layers of the RNN architecture.\n",
        "- **Actions**:\n",
        "    - We will include an **Embedding** layer, which maps the input tokens (characters) to dense vectors of fixed size.\n",
        "    - Next, we add **LSTM** layers (Long Short-Term Memory) to capture long-term dependencies in the sequence of characters.\n",
        "    - Finally, we add a **Dense** layer to predict the next character based on the sequence of previous characters.\n",
        "\n",
        "\n"
      ],
      "metadata": {
        "id": "vX1IlIkavBZP"
      }
    },
    {
      "cell_type": "code",
      "execution_count": null,
      "metadata": {
        "colab": {
          "base_uri": "https://localhost:8080/"
        },
        "id": "fJHb_a3dUgwj",
        "outputId": "c0ba2927-85ab-40bd-d890-4e603b5fb1a6"
      },
      "outputs": [
        {
          "output_type": "stream",
          "name": "stdout",
          "text": [
            "Epoch 1/10\n",
            "\u001b[1m5228/5228\u001b[0m \u001b[32m━━━━━━━━━━━━━━━━━━━━\u001b[0m\u001b[37m\u001b[0m \u001b[1m34s\u001b[0m 6ms/step - loss: 1.8642 - val_loss: 1.4166\n",
            "Epoch 2/10\n",
            "\u001b[1m5228/5228\u001b[0m \u001b[32m━━━━━━━━━━━━━━━━━━━━\u001b[0m\u001b[37m\u001b[0m \u001b[1m30s\u001b[0m 6ms/step - loss: 1.3901 - val_loss: 1.3350\n",
            "Epoch 3/10\n",
            "\u001b[1m5228/5228\u001b[0m \u001b[32m━━━━━━━━━━━━━━━━━━━━\u001b[0m\u001b[37m\u001b[0m \u001b[1m30s\u001b[0m 6ms/step - loss: 1.3250 - val_loss: 1.3006\n",
            "Epoch 4/10\n",
            "\u001b[1m5228/5228\u001b[0m \u001b[32m━━━━━━━━━━━━━━━━━━━━\u001b[0m\u001b[37m\u001b[0m \u001b[1m30s\u001b[0m 6ms/step - loss: 1.2940 - val_loss: 1.2814\n",
            "Epoch 5/10\n",
            "\u001b[1m5228/5228\u001b[0m \u001b[32m━━━━━━━━━━━━━━━━━━━━\u001b[0m\u001b[37m\u001b[0m \u001b[1m30s\u001b[0m 6ms/step - loss: 1.2750 - val_loss: 1.2666\n",
            "Epoch 6/10\n",
            "\u001b[1m5228/5228\u001b[0m \u001b[32m━━━━━━━━━━━━━━━━━━━━\u001b[0m\u001b[37m\u001b[0m \u001b[1m30s\u001b[0m 6ms/step - loss: 1.2618 - val_loss: 1.2558\n",
            "Epoch 7/10\n",
            "\u001b[1m5228/5228\u001b[0m \u001b[32m━━━━━━━━━━━━━━━━━━━━\u001b[0m\u001b[37m\u001b[0m \u001b[1m30s\u001b[0m 6ms/step - loss: 1.2521 - val_loss: 1.2482\n",
            "Epoch 8/10\n",
            "\u001b[1m5228/5228\u001b[0m \u001b[32m━━━━━━━━━━━━━━━━━━━━\u001b[0m\u001b[37m\u001b[0m \u001b[1m31s\u001b[0m 6ms/step - loss: 1.2445 - val_loss: 1.2429\n",
            "Epoch 9/10\n",
            "\u001b[1m5228/5228\u001b[0m \u001b[32m━━━━━━━━━━━━━━━━━━━━\u001b[0m\u001b[37m\u001b[0m \u001b[1m31s\u001b[0m 6ms/step - loss: 1.2384 - val_loss: 1.2368\n",
            "Epoch 10/10\n",
            "\u001b[1m5228/5228\u001b[0m \u001b[32m━━━━━━━━━━━━━━━━━━━━\u001b[0m\u001b[37m\u001b[0m \u001b[1m30s\u001b[0m 6ms/step - loss: 1.2333 - val_loss: 1.2334\n"
          ]
        }
      ],
      "source": [
        "import numpy as np\n",
        "import tensorflow as tf\n",
        "from tensorflow.keras import mixed_precision\n",
        "from sklearn.model_selection import train_test_split\n",
        "\n",
        "\n",
        "mixed_precision.set_global_policy('mixed_float16')\n",
        "\n",
        "#CONFIGURATION\n",
        "SEQ_LENGTH = 40\n",
        "embedding_dim = 64\n",
        "rnn_units = 128\n",
        "BATCH_SIZE = 128\n",
        "EPOCHS = 10\n",
        "\n",
        "# Rebuild sequences with shorter length\n",
        "input_sequences_fast = np.zeros((len(encoded_text) - SEQ_LENGTH, SEQ_LENGTH), dtype=np.uint16)\n",
        "target_sequences_fast = np.zeros((len(encoded_text) - SEQ_LENGTH, SEQ_LENGTH), dtype=np.uint16)\n",
        "\n",
        "for i in range(len(encoded_text) - SEQ_LENGTH):\n",
        "    input_sequences_fast[i] = encoded_text[i:i + SEQ_LENGTH]\n",
        "    target_sequences_fast[i] = encoded_text[i + 1:i + SEQ_LENGTH + 1]\n",
        "\n",
        "# Train and validation split\n",
        "X_train, X_val, y_train, y_val = train_test_split(input_sequences_fast, target_sequences_fast, test_size=0.1, random_state=42)\n",
        "\n",
        "# Prepare TensorFlow datasets\n",
        "train_dataset = tf.data.Dataset.from_tensor_slices((X_train, y_train)) \\\n",
        "    .shuffle(5000) \\\n",
        "    .batch(BATCH_SIZE, drop_remainder=True) \\\n",
        "    .prefetch(tf.data.AUTOTUNE)\n",
        "\n",
        "val_dataset = tf.data.Dataset.from_tensor_slices((X_val, y_val)) \\\n",
        "    .batch(BATCH_SIZE, drop_remainder=True) \\\n",
        "    .prefetch(tf.data.AUTOTUNE)\n",
        "\n",
        "# Define the model\n",
        "def build_fast_model(vocab_size, embedding_dim, rnn_units, batch_size):\n",
        "    inputs = tf.keras.Input(batch_shape=[batch_size, None], dtype=tf.int32)\n",
        "    x = tf.keras.layers.Embedding(vocab_size, embedding_dim)(inputs)\n",
        "    x = tf.keras.layers.LSTM(rnn_units, return_sequences=True)(x)\n",
        "    outputs = tf.keras.layers.Dense(vocab_size, dtype='float32')(x)  # Force float32 output\n",
        "    return tf.keras.Model(inputs, outputs)\n",
        "\n",
        "# Build and compile model\n",
        "model_fast = build_fast_model(len(vocab), embedding_dim, rnn_units, BATCH_SIZE)\n",
        "optimizer = mixed_precision.LossScaleOptimizer(tf.keras.optimizers.Adam())\n",
        "model_fast.compile(optimizer=optimizer, loss=tf.keras.losses.SparseCategoricalCrossentropy(from_logits=True))\n",
        "\n",
        "# Training and Validation\n",
        "history = model_fast.fit(train_dataset, validation_data=val_dataset, epochs=EPOCHS)\n"
      ]
    },
    {
      "cell_type": "markdown",
      "source": [
        "## 2.2 Explain the Type of Layers Included\n",
        "\n",
        "**Objective**: Explain the purpose of each layer used in the RNN.\n",
        "\n",
        "### Actions:\n",
        "\n",
        "1. **Embedding Layer**:\n",
        "   - The embedding layer is used to learn a dense representation of each input token (character) in the sequence. Instead of using sparse one-hot encoding, which can be inefficient, the embedding layer creates a dense vector representation for each token.\n",
        "   - This helps to reduce the dimensionality and allows the model to learn meaningful relationships between tokens based on the data.\n",
        "\n",
        "2. **LSTM Layer**:\n",
        "   - The LSTM (Long Short-Term Memory) layer is a type of Recurrent Neural Network (RNN) that is specifically designed for sequential data. It is capable of remembering long term dependencies in the data.\n",
        "   - LSTMs are effective at addressing the vanishing gradient problem, which is a challenge for standard RNNs when learning long sequences.\n",
        "\n",
        "3. **Dense Layer**:\n",
        "   - The dense layer is the final layer in the network and is used to predict the next character in the sequence based on the characters processed by the LSTM layer.\n",
        "   - It takes the output from the LSTM layer and computes the probability distribution over the possible next characters in the sequence, allowing the model to make a prediction.\n"
      ],
      "metadata": {
        "id": "e4SX6hW-09yC"
      }
    },
    {
      "cell_type": "code",
      "execution_count": null,
      "metadata": {
        "colab": {
          "base_uri": "https://localhost:8080/",
          "height": 305
        },
        "id": "L9MEeG-ibrY4",
        "outputId": "ba4aabb7-72ac-44b8-e582-1441021a0dbe"
      },
      "outputs": [
        {
          "output_type": "display_data",
          "data": {
            "text/plain": [
              "\u001b[1mModel: \"functional_1\"\u001b[0m\n"
            ],
            "text/html": [
              "<pre style=\"white-space:pre;overflow-x:auto;line-height:normal;font-family:Menlo,'DejaVu Sans Mono',consolas,'Courier New',monospace\"><span style=\"font-weight: bold\">Model: \"functional_1\"</span>\n",
              "</pre>\n"
            ]
          },
          "metadata": {}
        },
        {
          "output_type": "display_data",
          "data": {
            "text/plain": [
              "┏━━━━━━━━━━━━━━━━━━━━━━━━━━━━━━━━━┳━━━━━━━━━━━━━━━━━━━━━━━━┳━━━━━━━━━━━━━━━┓\n",
              "┃\u001b[1m \u001b[0m\u001b[1mLayer (type)                   \u001b[0m\u001b[1m \u001b[0m┃\u001b[1m \u001b[0m\u001b[1mOutput Shape          \u001b[0m\u001b[1m \u001b[0m┃\u001b[1m \u001b[0m\u001b[1m      Param #\u001b[0m\u001b[1m \u001b[0m┃\n",
              "┡━━━━━━━━━━━━━━━━━━━━━━━━━━━━━━━━━╇━━━━━━━━━━━━━━━━━━━━━━━━╇━━━━━━━━━━━━━━━┩\n",
              "│ input_layer_1 (\u001b[38;5;33mInputLayer\u001b[0m)      │ (\u001b[38;5;34m128\u001b[0m, \u001b[38;5;45mNone\u001b[0m)            │             \u001b[38;5;34m0\u001b[0m │\n",
              "├─────────────────────────────────┼────────────────────────┼───────────────┤\n",
              "│ embedding_1 (\u001b[38;5;33mEmbedding\u001b[0m)         │ (\u001b[38;5;34m128\u001b[0m, \u001b[38;5;45mNone\u001b[0m, \u001b[38;5;34m64\u001b[0m)        │         \u001b[38;5;34m2,496\u001b[0m │\n",
              "├─────────────────────────────────┼────────────────────────┼───────────────┤\n",
              "│ lstm_1 (\u001b[38;5;33mLSTM\u001b[0m)                   │ (\u001b[38;5;34m128\u001b[0m, \u001b[38;5;45mNone\u001b[0m, \u001b[38;5;34m128\u001b[0m)       │        \u001b[38;5;34m98,816\u001b[0m │\n",
              "├─────────────────────────────────┼────────────────────────┼───────────────┤\n",
              "│ cast_1 (\u001b[38;5;33mCast\u001b[0m)                   │ (\u001b[38;5;34m128\u001b[0m, \u001b[38;5;45mNone\u001b[0m, \u001b[38;5;34m128\u001b[0m)       │             \u001b[38;5;34m0\u001b[0m │\n",
              "├─────────────────────────────────┼────────────────────────┼───────────────┤\n",
              "│ dense_1 (\u001b[38;5;33mDense\u001b[0m)                 │ (\u001b[38;5;34m128\u001b[0m, \u001b[38;5;45mNone\u001b[0m, \u001b[38;5;34m39\u001b[0m)        │         \u001b[38;5;34m5,031\u001b[0m │\n",
              "└─────────────────────────────────┴────────────────────────┴───────────────┘\n"
            ],
            "text/html": [
              "<pre style=\"white-space:pre;overflow-x:auto;line-height:normal;font-family:Menlo,'DejaVu Sans Mono',consolas,'Courier New',monospace\">┏━━━━━━━━━━━━━━━━━━━━━━━━━━━━━━━━━┳━━━━━━━━━━━━━━━━━━━━━━━━┳━━━━━━━━━━━━━━━┓\n",
              "┃<span style=\"font-weight: bold\"> Layer (type)                    </span>┃<span style=\"font-weight: bold\"> Output Shape           </span>┃<span style=\"font-weight: bold\">       Param # </span>┃\n",
              "┡━━━━━━━━━━━━━━━━━━━━━━━━━━━━━━━━━╇━━━━━━━━━━━━━━━━━━━━━━━━╇━━━━━━━━━━━━━━━┩\n",
              "│ input_layer_1 (<span style=\"color: #0087ff; text-decoration-color: #0087ff\">InputLayer</span>)      │ (<span style=\"color: #00af00; text-decoration-color: #00af00\">128</span>, <span style=\"color: #00d7ff; text-decoration-color: #00d7ff\">None</span>)            │             <span style=\"color: #00af00; text-decoration-color: #00af00\">0</span> │\n",
              "├─────────────────────────────────┼────────────────────────┼───────────────┤\n",
              "│ embedding_1 (<span style=\"color: #0087ff; text-decoration-color: #0087ff\">Embedding</span>)         │ (<span style=\"color: #00af00; text-decoration-color: #00af00\">128</span>, <span style=\"color: #00d7ff; text-decoration-color: #00d7ff\">None</span>, <span style=\"color: #00af00; text-decoration-color: #00af00\">64</span>)        │         <span style=\"color: #00af00; text-decoration-color: #00af00\">2,496</span> │\n",
              "├─────────────────────────────────┼────────────────────────┼───────────────┤\n",
              "│ lstm_1 (<span style=\"color: #0087ff; text-decoration-color: #0087ff\">LSTM</span>)                   │ (<span style=\"color: #00af00; text-decoration-color: #00af00\">128</span>, <span style=\"color: #00d7ff; text-decoration-color: #00d7ff\">None</span>, <span style=\"color: #00af00; text-decoration-color: #00af00\">128</span>)       │        <span style=\"color: #00af00; text-decoration-color: #00af00\">98,816</span> │\n",
              "├─────────────────────────────────┼────────────────────────┼───────────────┤\n",
              "│ cast_1 (<span style=\"color: #0087ff; text-decoration-color: #0087ff\">Cast</span>)                   │ (<span style=\"color: #00af00; text-decoration-color: #00af00\">128</span>, <span style=\"color: #00d7ff; text-decoration-color: #00d7ff\">None</span>, <span style=\"color: #00af00; text-decoration-color: #00af00\">128</span>)       │             <span style=\"color: #00af00; text-decoration-color: #00af00\">0</span> │\n",
              "├─────────────────────────────────┼────────────────────────┼───────────────┤\n",
              "│ dense_1 (<span style=\"color: #0087ff; text-decoration-color: #0087ff\">Dense</span>)                 │ (<span style=\"color: #00af00; text-decoration-color: #00af00\">128</span>, <span style=\"color: #00d7ff; text-decoration-color: #00d7ff\">None</span>, <span style=\"color: #00af00; text-decoration-color: #00af00\">39</span>)        │         <span style=\"color: #00af00; text-decoration-color: #00af00\">5,031</span> │\n",
              "└─────────────────────────────────┴────────────────────────┴───────────────┘\n",
              "</pre>\n"
            ]
          },
          "metadata": {}
        },
        {
          "output_type": "display_data",
          "data": {
            "text/plain": [
              "\u001b[1m Total params: \u001b[0m\u001b[38;5;34m319,035\u001b[0m (1.22 MB)\n"
            ],
            "text/html": [
              "<pre style=\"white-space:pre;overflow-x:auto;line-height:normal;font-family:Menlo,'DejaVu Sans Mono',consolas,'Courier New',monospace\"><span style=\"font-weight: bold\"> Total params: </span><span style=\"color: #00af00; text-decoration-color: #00af00\">319,035</span> (1.22 MB)\n",
              "</pre>\n"
            ]
          },
          "metadata": {}
        },
        {
          "output_type": "display_data",
          "data": {
            "text/plain": [
              "\u001b[1m Trainable params: \u001b[0m\u001b[38;5;34m106,343\u001b[0m (415.40 KB)\n"
            ],
            "text/html": [
              "<pre style=\"white-space:pre;overflow-x:auto;line-height:normal;font-family:Menlo,'DejaVu Sans Mono',consolas,'Courier New',monospace\"><span style=\"font-weight: bold\"> Trainable params: </span><span style=\"color: #00af00; text-decoration-color: #00af00\">106,343</span> (415.40 KB)\n",
              "</pre>\n"
            ]
          },
          "metadata": {}
        },
        {
          "output_type": "display_data",
          "data": {
            "text/plain": [
              "\u001b[1m Non-trainable params: \u001b[0m\u001b[38;5;34m0\u001b[0m (0.00 B)\n"
            ],
            "text/html": [
              "<pre style=\"white-space:pre;overflow-x:auto;line-height:normal;font-family:Menlo,'DejaVu Sans Mono',consolas,'Courier New',monospace\"><span style=\"font-weight: bold\"> Non-trainable params: </span><span style=\"color: #00af00; text-decoration-color: #00af00\">0</span> (0.00 B)\n",
              "</pre>\n"
            ]
          },
          "metadata": {}
        },
        {
          "output_type": "display_data",
          "data": {
            "text/plain": [
              "\u001b[1m Optimizer params: \u001b[0m\u001b[38;5;34m212,692\u001b[0m (830.84 KB)\n"
            ],
            "text/html": [
              "<pre style=\"white-space:pre;overflow-x:auto;line-height:normal;font-family:Menlo,'DejaVu Sans Mono',consolas,'Courier New',monospace\"><span style=\"font-weight: bold\"> Optimizer params: </span><span style=\"color: #00af00; text-decoration-color: #00af00\">212,692</span> (830.84 KB)\n",
              "</pre>\n"
            ]
          },
          "metadata": {}
        }
      ],
      "source": [
        "model_fast.summary()"
      ]
    },
    {
      "cell_type": "markdown",
      "source": [
        "## Explanation of Loss Function and Optimizer\n",
        "\n",
        "### Loss Function: **Sparse Categorical Crossentropy**\n",
        "\n",
        " The **Sparse Categorical Crossentropy** loss function is used for problems where the model needs to choose the most likely option. In our case this helps the model figure out how far off its predictions are from the correct character.\n",
        "  \n",
        "- **Why did we use**:\n",
        "  - We are working with integer-encoded labels (where each character is represented as an integer). **Sparse Categorical Crossentropy** is perfect for this because it directly compares the predicted integer values to the actual integer labels.\n",
        "  - It is called sparse because it works with integer labels not one-hot encoded vectors which makes it more efficient.\n",
        "  - The model will output raw scores (logits) and the loss function will handle turning those into probabilities during training.\n",
        "\n",
        "---\n",
        "\n",
        "### Optimizer: **Adam with Mixed Precision Loss Scaling**\n",
        "\n",
        "The **Adam** optimizer is used to adjust the model's weights during training. It is one of the most popular optimizers because it adapts the learning rate (how big the changes are to the weights) automatically which helps the model learn faster and more reliably.\n",
        "\n",
        "- **Why did we use**:\n",
        "  - **Adam** combines the benefits of two other optimizers and is great for complex models like Recurrent Neural Networks (RNNs) because it adjusts learning rates for each weight individually.\n",
        "  \n",
        "- **Mixed Precision Loss Scaling**:\n",
        "  - **Mixed Precision**: This means using lower-precision (16-bit) numbers instead of the standard 32-bit ones. It speeds up training and reduces memory usage.\n",
        "  - **Loss Scaling**: To prevent any issues with smaller numbers causing unstable training when using mixed precision we scale the loss value to make sure everything stays stable.\n",
        "  - The **LossScaleOptimizer** wraps the Adam optimizer to ensure that the model works well with mixed precision without losing stability in the calculations.\n",
        "\n"
      ],
      "metadata": {
        "id": "X5H9dlDK2AKW"
      }
    },
    {
      "cell_type": "code",
      "execution_count": null,
      "metadata": {
        "colab": {
          "base_uri": "https://localhost:8080/",
          "height": 472
        },
        "id": "Y5CxJ1qiX6KW",
        "outputId": "175e8082-f71f-4098-e69c-a804e4881549"
      },
      "outputs": [
        {
          "output_type": "display_data",
          "data": {
            "text/plain": [
              "<Figure size 640x480 with 1 Axes>"
            ],
            "image/png": "[encoded data removed]"
          },
          "metadata": {}
        }
      ],
      "source": [
        "import matplotlib.pyplot as plt\n",
        "\n",
        "plt.plot(history.history['loss'], label='Training Loss')\n",
        "plt.plot(history.history['val_loss'], label='Validation Loss')\n",
        "plt.title('Training and Validation Loss')\n",
        "plt.xlabel('Epoch')\n",
        "plt.ylabel('Loss')\n",
        "plt.legend()\n",
        "plt.show()\n"
      ]
    },
    {
      "cell_type": "code",
      "execution_count": null,
      "metadata": {
        "id": "QKjNDEVNaona"
      },
      "outputs": [],
      "source": [
        "#Step 3"
      ]
    },
    {
      "cell_type": "markdown",
      "source": [
        "# Step 3: Text Generation and Evaluation\n",
        "\n",
        "In this step, we generate new text using the trained RNN model and evaluate the quality of the generated text using both qualitative and quantitative metrics.\n",
        "\n",
        "## 3.1 Generate Text by Sampling from the Model's Predictions\n",
        "- **Objective**: The first task is to create a function that generates text by sampling from the model's predictions.\n",
        "- **Action**: We define a function that uses the trained model to generate text by predicting one character at a time. The model samples from the probability distribution of the next character at each step.\n",
        "\n"
      ],
      "metadata": {
        "id": "a47TaWAiGnkb"
      }
    },
    {
      "cell_type": "code",
      "execution_count": null,
      "metadata": {
        "id": "S2UNlqSscB8h"
      },
      "outputs": [],
      "source": [
        "def generate_text(model, start_string, generation_length=300, temperature=1.0):\n",
        "\n",
        "    gen_model = build_fast_model(vocab_size=len(vocab), embedding_dim=embedding_dim, rnn_units=rnn_units, batch_size=1)\n",
        "    gen_model.set_weights(model.get_weights())\n",
        "\n",
        "\n",
        "    input_indices = [char2idx[s] for s in start_string.lower() if s in char2idx]\n",
        "    input_eval = tf.expand_dims(input_indices, 0)\n",
        "    text_generated = []\n",
        "\n",
        "    for _ in range(generation_length):\n",
        "        predictions = gen_model(input_eval)\n",
        "        predictions = tf.cast(predictions, tf.float32)\n",
        "        predictions = predictions[:, -1, :] / temperature\n",
        "        predicted_id = tf.random.categorical(predictions, num_samples=1)[-1, 0].numpy()\n",
        "\n",
        "        input_eval = tf.expand_dims([predicted_id], 0)\n",
        "        text_generated.append(idx2char[predicted_id])\n",
        "\n",
        "    return start_string + ''.join(text_generated)\n"
      ]
    },
    {
      "cell_type": "code",
      "execution_count": null,
      "metadata": {
        "colab": {
          "base_uri": "https://localhost:8080/"
        },
        "id": "nmlzDmlFcLfn",
        "outputId": "5301bee1-3dfb-45fe-81fe-8164621068ba"
      },
      "outputs": [
        {
          "output_type": "stream",
          "name": "stdout",
          "text": [
            "It was the best of times sanowo gert ben th, hes ave ss s, h woge f he the as, nd yowiden kith mpichinkny, llinombut. amathee ege t t rervamyfain th t, be nd nasthence armewioplethesenge t hirthesothe. inemat whecan handy trely t finsheve rr ond, sti e. athavear tith wrigat he d by d se enowivee s. touplo chet hat ly n ay \n"
          ]
        }
      ],
      "source": [
        "gen_model = build_fast_model(vocab_size=len(vocab), embedding_dim=embedding_dim, rnn_units=rnn_units, batch_size=1)\n",
        "gen_model.set_weights(model_fast.get_weights())\n",
        "print(generate_text(model_fast, \"It was the best of times\", generation_length=300))\n"
      ]
    },
    {
      "cell_type": "markdown",
      "source": [
        "### 3.2 Qualitative Evaluation\n",
        "\n",
        "#### 3.2.1 **Coherence and Grammar**\n",
        "The text lacks proper grammatical structure and coherence, making it hard to understand or follow. The words are jumbled together without forming coherent sentences or meaningful phrases.\n",
        "\n",
        "#### 3.2.2 **Creativity**\n",
        "The text is not creative in the sense of generating new, interesting, or original content. It is more chaotic and nonsensical, lacking any clear imaginative structure.\n",
        "\n",
        "#### 3.2.3 **Contextual Relevance**\n",
        "The generated text fails to maintain context or follow from the seed text meaningfully. It begins with a recognizable reference but quickly deviates into an incoherent sequence of words and phrases.\n",
        "\n",
        "#### 3.2.4 **Diversity**\n",
        "While there are some variations in word combinations, the output lacks the diversity of structured, varied, and sensible text. The text repeats similar nonsensical patterns, limiting its originality.\n",
        "\n",
        "---\n",
        "\n",
        "### Summary:\n",
        "This evaluation highlights that while the model is generating text, it struggles significantly with maintaining structure and logical flow. More training or adjustments in the model's architecture and data may be needed to improve text coherence and quality.\n"
      ],
      "metadata": {
        "id": "22PxeMMBHW9U"
      }
    },
    {
      "cell_type": "code",
      "execution_count": null,
      "metadata": {
        "colab": {
          "base_uri": "https://localhost:8080/"
        },
        "id": "fJZPqC8uclwd",
        "outputId": "a53b271a-08ae-4dde-d71d-4047d501ce2c"
      },
      "outputs": [
        {
          "output_type": "stream",
          "name": "stdout",
          "text": [
            "Perplexity: 1.0002420003864325\n"
          ]
        }
      ],
      "source": [
        "def calculate_perplexity(model, dataset):\n",
        "    loss_object = tf.keras.losses.SparseCategoricalCrossentropy(from_logits=True)\n",
        "    total_loss, total_predictions = 0.0, 0\n",
        "\n",
        "    for inp, target in dataset.take(10):\n",
        "        predictions = model(inp)\n",
        "        predictions = tf.cast(predictions, tf.float32)\n",
        "        loss = loss_object(target, predictions)\n",
        "        batch_loss = tf.reduce_sum(loss).numpy()\n",
        "        total_loss += batch_loss\n",
        "        total_predictions += tf.size(target).numpy()\n",
        "\n",
        "    average_loss = total_loss / total_predictions\n",
        "    perplexity = np.exp(average_loss)\n",
        "    return perplexity\n",
        "\n",
        "print(\"Perplexity:\", calculate_perplexity(model_fast, val_dataset))\n"
      ]
    },
    {
      "cell_type": "code",
      "execution_count": null,
      "metadata": {
        "colab": {
          "base_uri": "https://localhost:8080/"
        },
        "id": "U8DQOsRjcxWN",
        "outputId": "475cf0cd-29f0-4c3a-fe63-0f11956bcd51"
      },
      "outputs": [
        {
          "output_type": "stream",
          "name": "stdout",
          "text": [
            "Generated:  dendouio yoremo blung deiuaul i t. amr. s there p\n",
            "Reference: lled to life chapter i the period chapter ii the m\n",
            "BLEU Score: 0.1612841187667346\n"
          ]
        }
      ],
      "source": [
        "from nltk.translate.bleu_score import sentence_bleu, SmoothingFunction\n",
        "\n",
        "# Generate text sample\n",
        "generated = generate_text(model_fast, \"It was the best of times\", generation_length=50)\n",
        "reference = cleaned_text[100:150]\n",
        "\n",
        "\n",
        "reference_chars = list(reference)\n",
        "generated_chars = list(generated[-50:])\n",
        "\n",
        "# Use smoothing\n",
        "smooth_fn = SmoothingFunction().method1\n",
        "bleu_score = sentence_bleu([reference_chars], generated_chars, smoothing_function=smooth_fn)\n",
        "\n",
        "print(\"Generated:\", ''.join(generated_chars))\n",
        "print(\"Reference:\", reference)\n",
        "print(\"BLEU Score:\", bleu_score)\n"
      ]
    },
    {
      "cell_type": "code",
      "execution_count": null,
      "metadata": {
        "colab": {
          "base_uri": "https://localhost:8080/"
        },
        "id": "FFZYn7huc6_9",
        "outputId": "bfe0641d-6eca-44b9-d0e0-d56897c9a356"
      },
      "outputs": [
        {
          "output_type": "stream",
          "name": "stdout",
          "text": [
            "Collecting rouge-score\n",
            "  Downloading rouge_score-0.1.2.tar.gz (17 kB)\n",
            "  Preparing metadata (setup.py) ... \u001b[?25l\u001b[?25hdone\n",
            "Requirement already satisfied: absl-py in /usr/local/lib/python3.11/dist-packages (from rouge-score) (1.4.0)\n",
            "Requirement already satisfied: nltk in /usr/local/lib/python3.11/dist-packages (from rouge-score) (3.9.1)\n",
            "Requirement already satisfied: numpy in /usr/local/lib/python3.11/dist-packages (from rouge-score) (2.0.2)\n",
            "Requirement already satisfied: six>=1.14.0 in /usr/local/lib/python3.11/dist-packages (from rouge-score) (1.17.0)\n",
            "Requirement already satisfied: click in /usr/local/lib/python3.11/dist-packages (from nltk->rouge-score) (8.1.8)\n",
            "Requirement already satisfied: joblib in /usr/local/lib/python3.11/dist-packages (from nltk->rouge-score) (1.4.2)\n",
            "Requirement already satisfied: regex>=2021.8.3 in /usr/local/lib/python3.11/dist-packages (from nltk->rouge-score) (2024.11.6)\n",
            "Requirement already satisfied: tqdm in /usr/local/lib/python3.11/dist-packages (from nltk->rouge-score) (4.67.1)\n",
            "Building wheels for collected packages: rouge-score\n",
            "  Building wheel for rouge-score (setup.py) ... \u001b[?25l\u001b[?25hdone\n",
            "  Created wheel for rouge-score: filename=rouge_score-0.1.2-py3-none-any.whl size=24934 sha256=41e8a0cdb4d7e1f9b7728899e47c058f6540cd14ba2fc21bb8191e979ad0938f\n",
            "  Stored in directory: /root/.cache/pip/wheels/1e/19/43/8a442dc83660ca25e163e1bd1f89919284ab0d0c1475475148\n",
            "Successfully built rouge-score\n",
            "Installing collected packages: rouge-score\n",
            "Successfully installed rouge-score-0.1.2\n"
          ]
        }
      ],
      "source": [
        "!pip install rouge-score"
      ]
    },
    {
      "cell_type": "code",
      "execution_count": null,
      "metadata": {
        "colab": {
          "base_uri": "https://localhost:8080/"
        },
        "id": "giiGWc40c1BA",
        "outputId": "5160e459-76d4-47cb-832e-56b5ab1aa0e1"
      },
      "outputs": [
        {
          "output_type": "stream",
          "name": "stdout",
          "text": [
            "ROUGE1 -> Precision: 0.0455, Recall: 0.0600, F1: 0.0517\n",
            "ROUGEL -> Precision: 0.0455, Recall: 0.0600, F1: 0.0517\n"
          ]
        }
      ],
      "source": [
        "from rouge_score import rouge_scorer\n",
        "\n",
        "# Generate and align texts for comparison\n",
        "generated = generate_text(model_fast, \"It was the best of times\", generation_length=300)\n",
        "reference = cleaned_text[100:400]\n",
        "\n",
        "# ROUGE\n",
        "scorer = rouge_scorer.RougeScorer(['rouge1', 'rougeL'], use_stemmer=False)\n",
        "scores = scorer.score(reference, generated)\n",
        "\n",
        "# Display scores\n",
        "for metric, score in scores.items():\n",
        "    print(f\"{metric.upper()} -> Precision: {score.precision:.4f}, Recall: {score.recall:.4f}, F1: {score.fmeasure:.4f}\")\n"
      ]
    },
    {
      "cell_type": "code",
      "execution_count": null,
      "metadata": {
        "colab": {
          "base_uri": "https://localhost:8080/"
        },
        "id": "URnkoVkBdCiR",
        "outputId": "0dfabec4-3e28-469f-bc63-af3e4d49135c"
      },
      "outputs": [
        {
          "output_type": "stream",
          "name": "stdout",
          "text": [
            "Entropy: 4.1191, Repetition: 0.9600\n"
          ]
        }
      ],
      "source": [
        "from collections import Counter\n",
        "import math\n",
        "\n",
        "def calculate_entropy_and_repetition(text):\n",
        "    counter = Counter(text)\n",
        "    total_chars = sum(counter.values())\n",
        "\n",
        "    # Entropy\n",
        "    entropy = -sum((count / total_chars) * math.log2(count / total_chars) for count in counter.values())\n",
        "\n",
        "    # Repetition\n",
        "    repetition = sum(1 for count in counter.values() if count > 1) / len(counter)\n",
        "\n",
        "    return entropy, repetition\n",
        "\n",
        "entropy, repetition = calculate_entropy_and_repetition(generated)\n",
        "print(f\"Entropy: {entropy:.4f}, Repetition: {repetition:.4f}\")\n"
      ]
    },
    {
      "cell_type": "markdown",
      "source": [
        "### Quantitative Evaluation\n",
        "\n",
        "- **Perplexity**: 1.0002 — The model predicts the next token quite well, with a relatively low perplexity.\n",
        "\n",
        "- **BLEU Score**: 0.1613 — The overlap with the reference text is low, indicating the generated text is quite different from the reference.\n",
        "\n",
        "- **ROUGE Score**:\n",
        "  - **Precision**: 0.0455\n",
        "  - **Recall**: 0.0600\n",
        "  - **F1**: 0.0517\n",
        "  - These low values show that the model’s output lacks significant overlap with the reference text.\n",
        "\n",
        "- **Entropy**: 4.1191 — A moderate level of diversity is present in the generated text, but it is not extremely diverse.\n",
        "\n",
        "- **Repetition**: 0.9600 — High repetition, indicating that the model generates repetitive text rather than diverse content.\n",
        "\n",
        "---\n",
        "\n",
        "### Summary:\n",
        "Overall, while the model's perplexity suggests reasonable performance in predicting the next token, the **BLEU** and **ROUGE** scores indicate that the generated text does not align well with the reference text. The **high repetition** score and **moderate entropy** indicate a need for more diversity and less repetitive content in future text generation.\n"
      ],
      "metadata": {
        "id": "eMpzNVWhIKl0"
      }
    },
    {
      "cell_type": "code",
      "execution_count": null,
      "metadata": {
        "id": "a-dbvJQMdLM-"
      },
      "outputs": [],
      "source": [
        "#Step 4"
      ]
    },
    {
      "cell_type": "markdown",
      "source": [
        "# Step 4: Model Improvement\n",
        "\n",
        "In Step 4, we focused on improving the performance of the RNN model through a combination of architectural adjustments, regularization, enhanced text preprocessing, and fine-tuning hyperparameters.\n",
        "\n",
        "## 4.1 Experimenting with Different Architectures\n",
        "- **Objective**: Improve model performance by trying different architectures.\n",
        "- **Actions**:\n",
        "  - Added more layers to the model (additional **LSTM** layers).\n",
        "  - Experimented with alternative layer types, such as using **GRU** instead of **LSTM**.\n",
        "  - Also A deeper network with multiple LSTM layers was tested to capture more complex dependencies.\n",
        "\n",
        "## 4.2 Apply Regularization Techniques\n",
        "- **Objective**: Prevent overfitting and improve generalization.\n",
        "- **Actions**:\n",
        "  - **Dropout** was added to the model to randomly deactivate neurons during training, reducing overfitting.\n",
        "\n",
        "## 4.3 Use Advanced Text Preprocessing\n",
        "- **Objective**: Enhance tokenization and improve model understanding of the data.\n",
        "- **Actions**:\n",
        "  - To improve character-level model performance and reduce noise:\n",
        "\n",
        "  - We removed non-standard punctuation like curly quotes and dashes.\n",
        "\n",
        "  - We filtered out rare, non-ASCII characters.\n",
        "\n",
        "  - We standardized ellipses and dashes.\n",
        "\n",
        "  - All text was lowercased to reduce vocabulary size and training complexity.\n",
        "\n",
        "## 4.4 Fine-tune Hyperparameters\n",
        "- **Objective**: Optimize the model's training process.\n",
        "- **Actions**:\n",
        "  - Experimented with different **learning rates**, **batch sizes**, and **epochs** to find the best configuration for faster convergence and better accuracy.\n",
        "\n",
        "## Model Comparison\n",
        "- **Best Model**: The model that performed the best among the three experimented with models was Model 3 with accuract 98.95% It has an Embedding Layer with added Bidirectional LSTM Layer, Dropout Layers, Unidirectional LSTM Layer, Dense Output Layers. The added depth of the model allowed it to capture more complex patterns in the sequence, leading to better text generation performance.\n"
      ],
      "metadata": {
        "id": "MdQMLlzEJIJM"
      }
    },
    {
      "cell_type": "markdown",
      "source": [
        "# Model 1:\n",
        "\n",
        "This model has flexibility of **GRU** and **LSTM** layers using **embedding** for token representation and a **Dense** layer for predictions.\n",
        "\n",
        "## Architecture:\n",
        "1. **Input Layer**: Accepts sequences of integer tokens with variable length.\n",
        "2. **Embedding Layer**: Converts tokens to dense vectors with size **128**.\n",
        "3. **GRU/LSTM Layers**:\n",
        "   - **GRU** or **LSTM** layers with **256 units** are used, followed by **Dropout (0.2)** to prevent overfitting.\n",
        "4. **Dense Output Layer**: Outputs a probability distribution for each token in the vocabulary.\n",
        "\n",
        "\n"
      ],
      "metadata": {
        "id": "d1klWvtZS6gu"
      }
    },
    {
      "cell_type": "code",
      "execution_count": null,
      "metadata": {
        "id": "0iWW4ahodNeV"
      },
      "outputs": [],
      "source": [
        "def build_flexible_model(vocab_size, embedding_dim=128, rnn_units=256, use_gru=True):\n",
        "    inputs = tf.keras.Input(shape=(None,), dtype=tf.int32)\n",
        "    x = tf.keras.layers.Embedding(input_dim=vocab_size, output_dim=embedding_dim)(inputs)\n",
        "\n",
        "    if use_gru:\n",
        "        x = tf.keras.layers.GRU(rnn_units, return_sequences=True, stateful=False)(x)\n",
        "        x = tf.keras.layers.Dropout(0.2)(x)\n",
        "        x = tf.keras.layers.GRU(rnn_units, return_sequences=True, stateful=False)(x)\n",
        "    else:\n",
        "        x = tf.keras.layers.LSTM(rnn_units, return_sequences=True, stateful=False)(x)\n",
        "        x = tf.keras.layers.Dropout(0.2)(x)\n",
        "        x = tf.keras.layers.LSTM(rnn_units, return_sequences=True, stateful=False)(x)\n",
        "\n",
        "\n",
        "    outputs = tf.keras.layers.Dense(vocab_size, dtype='float32')(x)\n",
        "\n",
        "    return tf.keras.Model(inputs, outputs)\n"
      ]
    },
    {
      "cell_type": "code",
      "execution_count": null,
      "metadata": {
        "colab": {
          "base_uri": "https://localhost:8080/"
        },
        "id": "BSmQPVVjg_Ga",
        "outputId": "330bb93e-82de-44f7-8bf4-ea8f5365d2bd"
      },
      "outputs": [
        {
          "output_type": "stream",
          "name": "stdout",
          "text": [
            "a tale of two cities a story of the french revolution by charles dickens contents book the firstrecalled to life chapter i the period chapter ii the mail chapter iii the night shadows chapter iv the preparation chapter v the wineshop chapter vi the shoemaker book the secondthe golden thread chapter i five years later chapter ii a sight chapter iii a disappointment chapter iv congratulatory chapter v the jackal chapter vi hundreds of people chapter vii monseigneur in town chapter viii monseigneur\n",
            "Cleaned character count: 750,605\n"
          ]
        }
      ],
      "source": [
        "\n",
        "file_path = \"A Tale of Two Cities.txt\"\n",
        "with open(file_path, 'r', encoding='utf-8') as f:\n",
        "    text = f.read()\n",
        "\n",
        "# Extract content between markers\n",
        "start_marker = \"*** START OF THE PROJECT GUTENBERG EBOOK A TALE OF TWO CITIES ***\"\n",
        "end_marker = \"*** END OF THE PROJECT GUTENBERG EBOOK A TALE OF TWO CITIES ***\"\n",
        "start_idx = text.find(start_marker) + len(start_marker)\n",
        "end_idx = text.find(end_marker)\n",
        "cleaned_text = text[start_idx:end_idx].strip()\n",
        "\n",
        "# Advanced Preprocessing\n",
        "import re\n",
        "import string\n",
        "\n",
        "# Normalize punctuation marks\n",
        "cleaned_text = cleaned_text.replace(\"’\", \"'\").replace(\"‘\", \"'\")\n",
        "cleaned_text = cleaned_text.replace(\"“\", '\"').replace(\"”\", '\"')\n",
        "\n",
        "# Lowercase text\n",
        "cleaned_text = cleaned_text.lower()\n",
        "\n",
        "# Collapse repeating punctuation\n",
        "cleaned_text = re.sub(r'[-]{2,}', '-', cleaned_text)\n",
        "cleaned_text = re.sub(r'\\.{3,}', '...', cleaned_text)\n",
        "\n",
        "# Retain only allowed characters\n",
        "allowed_chars = set(string.ascii_lowercase + string.digits + \" .,!?:;'\\\"\\n\")\n",
        "cleaned_text = ''.join(c for c in cleaned_text if c in allowed_chars)\n",
        "\n",
        "# Normalize whitespace\n",
        "cleaned_text = re.sub(r'\\s+', ' ', cleaned_text)\n",
        "\n",
        "# Display cleaned preview and stats\n",
        "print(cleaned_text[:500])\n",
        "print(f\"Cleaned character count: {len(cleaned_text):,}\")\n"
      ]
    },
    {
      "cell_type": "markdown",
      "source": [],
      "metadata": {
        "id": "0myq5ChkUKmP"
      }
    },
    {
      "cell_type": "markdown",
      "source": [
        "# Experiment 1:\n",
        "## Model 1\n",
        "## Batch Size = 128\n",
        "## Epochs = 4\n",
        "## Learning Rate = 0.002\n",
        "\n",
        "This Experiment showed high losses.\n",
        "\n",
        "\n"
      ],
      "metadata": {
        "id": "EbhekZ-yULJk"
      }
    },
    {
      "cell_type": "code",
      "execution_count": null,
      "metadata": {
        "colab": {
          "base_uri": "https://localhost:8080/",
          "height": 661
        },
        "id": "reR-rlCBjf2P",
        "outputId": "4ad00450-8e2b-46c5-dd1c-9a347391dbd6"
      },
      "outputs": [
        {
          "output_type": "stream",
          "name": "stdout",
          "text": [
            "Using device: /device:GPU:0\n",
            "Mixed precision policy: <DTypePolicy \"mixed_float16\">\n",
            "Epoch 1/4\n",
            "\u001b[1m5277/5277\u001b[0m \u001b[32m━━━━━━━━━━━━━━━━━━━━\u001b[0m\u001b[37m\u001b[0m \u001b[1m47s\u001b[0m 8ms/step - loss: 1.6408 - val_loss: 1.2812\n",
            "Epoch 2/4\n",
            "\u001b[1m5277/5277\u001b[0m \u001b[32m━━━━━━━━━━━━━━━━━━━━\u001b[0m\u001b[37m\u001b[0m \u001b[1m44s\u001b[0m 8ms/step - loss: 1.3326 - val_loss: 1.2482\n",
            "Epoch 3/4\n",
            "\u001b[1m5277/5277\u001b[0m \u001b[32m━━━━━━━━━━━━━━━━━━━━\u001b[0m\u001b[37m\u001b[0m \u001b[1m44s\u001b[0m 8ms/step - loss: 1.3089 - val_loss: 1.2361\n",
            "Epoch 4/4\n",
            "\u001b[1m5277/5277\u001b[0m \u001b[32m━━━━━━━━━━━━━━━━━━━━\u001b[0m\u001b[37m\u001b[0m \u001b[1m44s\u001b[0m 8ms/step - loss: 1.2980 - val_loss: 1.2297\n"
          ]
        },
        {
          "output_type": "display_data",
          "data": {
            "text/plain": [
              "<Figure size 640x480 with 1 Axes>"
            ],
            "image/png": "[encoded data removed]"
          },
          "metadata": {}
        }
      ],
      "source": [
        "\n",
        "import tensorflow as tf\n",
        "from tensorflow.keras import mixed_precision\n",
        "import re\n",
        "import string\n",
        "import numpy as np\n",
        "import matplotlib.pyplot as plt\n",
        "from sklearn.model_selection import train_test_split\n",
        "\n",
        "\n",
        "mixed_precision.set_global_policy('mixed_float16')\n",
        "print(\"Using device:\", tf.test.gpu_device_name())\n",
        "print(\"Mixed precision policy:\", mixed_precision.global_policy())\n",
        "\n",
        "\n",
        "vocab = sorted(set(cleaned_text))\n",
        "char2idx = {u: i for i, u in enumerate(vocab)}\n",
        "idx2char = np.array(vocab)\n",
        "encoded_text = np.array([char2idx[c] for c in cleaned_text], dtype=np.uint16)\n",
        "\n",
        "\n",
        "SEQ_LENGTH = 40\n",
        "input_seqs, target_seqs = [], []\n",
        "\n",
        "for i in range(len(encoded_text) - SEQ_LENGTH):\n",
        "    input_seqs.append(encoded_text[i:i+SEQ_LENGTH])\n",
        "    target_seqs.append(encoded_text[i+1:i+SEQ_LENGTH+1])\n",
        "\n",
        "input_seqs = np.array(input_seqs)\n",
        "target_seqs = np.array(target_seqs)\n",
        "\n",
        "\n",
        "X_train, X_val, y_train, y_val = train_test_split(input_seqs, target_seqs, test_size=0.1)\n",
        "\n",
        "\n",
        "BATCH_SIZE = 128\n",
        "\n",
        "train_ds = tf.data.Dataset.from_tensor_slices((X_train, y_train)) \\\n",
        "    .shuffle(5000) \\\n",
        "    .batch(BATCH_SIZE, drop_remainder=True) \\\n",
        "    .prefetch(tf.data.AUTOTUNE)\n",
        "\n",
        "val_ds = tf.data.Dataset.from_tensor_slices((X_val, y_val)) \\\n",
        "    .batch(BATCH_SIZE, drop_remainder=True) \\\n",
        "    .prefetch(tf.data.AUTOTUNE)\n",
        "\n",
        "\n",
        "def build_flexible_model(vocab_size, embedding_dim=64, rnn_units=128, use_gru=True):\n",
        "    inputs = tf.keras.Input(shape=(None,), dtype=tf.int32)\n",
        "    x = tf.keras.layers.Embedding(vocab_size, embedding_dim)(inputs)\n",
        "    if use_gru:\n",
        "        x = tf.keras.layers.GRU(rnn_units, return_sequences=True)(x)\n",
        "        x = tf.keras.layers.Dropout(0.2)(x)\n",
        "        x = tf.keras.layers.GRU(rnn_units, return_sequences=True)(x)\n",
        "    else:\n",
        "        x = tf.keras.layers.LSTM(rnn_units, return_sequences=True)(x)\n",
        "        x = tf.keras.layers.Dropout(0.2)(x)\n",
        "        x = tf.keras.layers.LSTM(rnn_units, return_sequences=True)(x)\n",
        "    outputs = tf.keras.layers.Dense(vocab_size, dtype='float32')(x)  # Important for mixed precision\n",
        "    return tf.keras.Model(inputs, outputs)\n",
        "\n",
        "\n",
        "model = build_flexible_model(len(vocab))\n",
        "optimizer = mixed_precision.LossScaleOptimizer(tf.keras.optimizers.Adam(learning_rate=0.002))\n",
        "\n",
        "model.compile(\n",
        "    optimizer=optimizer,\n",
        "    loss=tf.keras.losses.SparseCategoricalCrossentropy(from_logits=True)\n",
        ")\n",
        "\n",
        "history = model.fit(train_ds, validation_data=val_ds, epochs=4)\n",
        "\n",
        "\n",
        "plt.plot(history.history['val_loss'], label='Validation Loss')\n",
        "plt.title(\"Validation Loss Over Epochs\")\n",
        "plt.xlabel(\"Epoch\")\n",
        "plt.ylabel(\"Loss\")\n",
        "plt.legend()\n",
        "plt.grid(True)\n",
        "plt.tight_layout()\n",
        "plt.show()\n"
      ]
    },
    {
      "cell_type": "markdown",
      "source": [],
      "metadata": {
        "id": "k9tKwj5LU1Mk"
      }
    },
    {
      "cell_type": "markdown",
      "source": [
        "# Experiment 2:\n",
        "## Model used : Model 1\n",
        "## Batch Size = 128\n",
        "## Epochs = 10\n",
        "## Learning Rate = 0.002\n",
        "\n",
        "This Experiment still showed high losses.\n",
        "\n",
        "\n"
      ],
      "metadata": {
        "id": "Yvg0q2PtU1yY"
      }
    },
    {
      "cell_type": "code",
      "execution_count": null,
      "metadata": {
        "id": "UwBGRkfitutA",
        "colab": {
          "base_uri": "https://localhost:8080/",
          "height": 834
        },
        "outputId": "3140ac0d-f627-43ca-e019-476b0da7d1ee"
      },
      "outputs": [
        {
          "output_type": "stream",
          "name": "stdout",
          "text": [
            "Epoch 1/10\n",
            "\u001b[1m5277/5277\u001b[0m \u001b[32m━━━━━━━━━━━━━━━━━━━━\u001b[0m\u001b[37m\u001b[0m \u001b[1m46s\u001b[0m 8ms/step - loss: 1.6389 - val_loss: 1.2823\n",
            "Epoch 2/10\n",
            "\u001b[1m5277/5277\u001b[0m \u001b[32m━━━━━━━━━━━━━━━━━━━━\u001b[0m\u001b[37m\u001b[0m \u001b[1m44s\u001b[0m 8ms/step - loss: 1.3343 - val_loss: 1.2526\n",
            "Epoch 3/10\n",
            "\u001b[1m5277/5277\u001b[0m \u001b[32m━━━━━━━━━━━━━━━━━━━━\u001b[0m\u001b[37m\u001b[0m \u001b[1m44s\u001b[0m 8ms/step - loss: 1.3116 - val_loss: 1.2393\n",
            "Epoch 4/10\n",
            "\u001b[1m5277/5277\u001b[0m \u001b[32m━━━━━━━━━━━━━━━━━━━━\u001b[0m\u001b[37m\u001b[0m \u001b[1m44s\u001b[0m 8ms/step - loss: 1.3010 - val_loss: 1.2324\n",
            "Epoch 5/10\n",
            "\u001b[1m5277/5277\u001b[0m \u001b[32m━━━━━━━━━━━━━━━━━━━━\u001b[0m\u001b[37m\u001b[0m \u001b[1m44s\u001b[0m 8ms/step - loss: 1.2949 - val_loss: 1.2275\n",
            "Epoch 6/10\n",
            "\u001b[1m5277/5277\u001b[0m \u001b[32m━━━━━━━━━━━━━━━━━━━━\u001b[0m\u001b[37m\u001b[0m \u001b[1m44s\u001b[0m 8ms/step - loss: 1.2906 - val_loss: 1.2257\n",
            "Epoch 7/10\n",
            "\u001b[1m5277/5277\u001b[0m \u001b[32m━━━━━━━━━━━━━━━━━━━━\u001b[0m\u001b[37m\u001b[0m \u001b[1m44s\u001b[0m 8ms/step - loss: 1.2876 - val_loss: 1.2213\n",
            "Epoch 8/10\n",
            "\u001b[1m5277/5277\u001b[0m \u001b[32m━━━━━━━━━━━━━━━━━━━━\u001b[0m\u001b[37m\u001b[0m \u001b[1m44s\u001b[0m 8ms/step - loss: 1.2848 - val_loss: 1.2191\n",
            "Epoch 9/10\n",
            "\u001b[1m5277/5277\u001b[0m \u001b[32m━━━━━━━━━━━━━━━━━━━━\u001b[0m\u001b[37m\u001b[0m \u001b[1m44s\u001b[0m 8ms/step - loss: 1.2829 - val_loss: 1.2181\n",
            "Epoch 10/10\n",
            "\u001b[1m5277/5277\u001b[0m \u001b[32m━━━━━━━━━━━━━━━━━━━━\u001b[0m\u001b[37m\u001b[0m \u001b[1m44s\u001b[0m 8ms/step - loss: 1.2809 - val_loss: 1.2158\n"
          ]
        },
        {
          "output_type": "display_data",
          "data": {
            "text/plain": [
              "<Figure size 640x480 with 1 Axes>"
            ],
            "image/png": "[encoded data removed]"
          },
          "metadata": {}
        }
      ],
      "source": [
        "from tensorflow.keras import mixed_precision\n",
        "\n",
        "\n",
        "mixed_precision.set_global_policy('mixed_float16')\n",
        "\n",
        "\n",
        "BATCH_SIZE = 128\n",
        "\n",
        "\n",
        "train_ds = tf.data.Dataset.from_tensor_slices((X_train, y_train)) \\\n",
        "    .shuffle(5000) \\\n",
        "    .batch(BATCH_SIZE, drop_remainder=True) \\\n",
        "    .prefetch(tf.data.AUTOTUNE)\n",
        "\n",
        "val_ds = tf.data.Dataset.from_tensor_slices((X_val, y_val)) \\\n",
        "    .batch(BATCH_SIZE, drop_remainder=True) \\\n",
        "    .prefetch(tf.data.AUTOTUNE)\n",
        "\n",
        "\n",
        "model = build_flexible_model(len(vocab))\n",
        "\n",
        "\n",
        "optimizer = mixed_precision.LossScaleOptimizer(tf.keras.optimizers.Adam(learning_rate=0.002))\n",
        "\n",
        "\n",
        "model.compile(optimizer=optimizer,\n",
        "              loss=tf.keras.losses.SparseCategoricalCrossentropy(from_logits=True))\n",
        "history = model.fit(train_ds, validation_data=val_ds, epochs=10)\n",
        "\n",
        "# Plot validation loss\n",
        "plt.plot(history.history['val_loss'], label='Validation Loss')\n",
        "plt.title(\"Validation Loss Over Epochs\")\n",
        "plt.xlabel(\"Epoch\")\n",
        "plt.ylabel(\"Loss\")\n",
        "plt.legend()\n",
        "plt.grid(True)\n",
        "plt.tight_layout()\n",
        "plt.show()\n"
      ]
    },
    {
      "cell_type": "code",
      "execution_count": null,
      "metadata": {
        "id": "kYH6cHsNjz8P",
        "colab": {
          "base_uri": "https://localhost:8080/",
          "height": 369
        },
        "outputId": "203e5d65-2692-4119-aa14-5e5134045538"
      },
      "outputs": [
        {
          "output_type": "display_data",
          "data": {
            "text/plain": [
              "\u001b[1mModel: \"functional_7\"\u001b[0m\n"
            ],
            "text/html": [
              "<pre style=\"white-space:pre;overflow-x:auto;line-height:normal;font-family:Menlo,'DejaVu Sans Mono',consolas,'Courier New',monospace\"><span style=\"font-weight: bold\">Model: \"functional_7\"</span>\n",
              "</pre>\n"
            ]
          },
          "metadata": {}
        },
        {
          "output_type": "display_data",
          "data": {
            "text/plain": [
              "┏━━━━━━━━━━━━━━━━━━━━━━━━━━━━━━━━━┳━━━━━━━━━━━━━━━━━━━━━━━━┳━━━━━━━━━━━━━━━┓\n",
              "┃\u001b[1m \u001b[0m\u001b[1mLayer (type)                   \u001b[0m\u001b[1m \u001b[0m┃\u001b[1m \u001b[0m\u001b[1mOutput Shape          \u001b[0m\u001b[1m \u001b[0m┃\u001b[1m \u001b[0m\u001b[1m      Param #\u001b[0m\u001b[1m \u001b[0m┃\n",
              "┡━━━━━━━━━━━━━━━━━━━━━━━━━━━━━━━━━╇━━━━━━━━━━━━━━━━━━━━━━━━╇━━━━━━━━━━━━━━━┩\n",
              "│ input_layer_7 (\u001b[38;5;33mInputLayer\u001b[0m)      │ (\u001b[38;5;45mNone\u001b[0m, \u001b[38;5;45mNone\u001b[0m)           │             \u001b[38;5;34m0\u001b[0m │\n",
              "├─────────────────────────────────┼────────────────────────┼───────────────┤\n",
              "│ embedding_7 (\u001b[38;5;33mEmbedding\u001b[0m)         │ (\u001b[38;5;45mNone\u001b[0m, \u001b[38;5;45mNone\u001b[0m, \u001b[38;5;34m64\u001b[0m)       │         \u001b[38;5;34m2,624\u001b[0m │\n",
              "├─────────────────────────────────┼────────────────────────┼───────────────┤\n",
              "│ gru_2 (\u001b[38;5;33mGRU\u001b[0m)                     │ (\u001b[38;5;45mNone\u001b[0m, \u001b[38;5;45mNone\u001b[0m, \u001b[38;5;34m128\u001b[0m)      │        \u001b[38;5;34m74,496\u001b[0m │\n",
              "├─────────────────────────────────┼────────────────────────┼───────────────┤\n",
              "│ dropout_2 (\u001b[38;5;33mDropout\u001b[0m)             │ (\u001b[38;5;45mNone\u001b[0m, \u001b[38;5;45mNone\u001b[0m, \u001b[38;5;34m128\u001b[0m)      │             \u001b[38;5;34m0\u001b[0m │\n",
              "├─────────────────────────────────┼────────────────────────┼───────────────┤\n",
              "│ gru_3 (\u001b[38;5;33mGRU\u001b[0m)                     │ (\u001b[38;5;45mNone\u001b[0m, \u001b[38;5;45mNone\u001b[0m, \u001b[38;5;34m128\u001b[0m)      │        \u001b[38;5;34m99,072\u001b[0m │\n",
              "├─────────────────────────────────┼────────────────────────┼───────────────┤\n",
              "│ cast_7 (\u001b[38;5;33mCast\u001b[0m)                   │ (\u001b[38;5;45mNone\u001b[0m, \u001b[38;5;45mNone\u001b[0m, \u001b[38;5;34m128\u001b[0m)      │             \u001b[38;5;34m0\u001b[0m │\n",
              "├─────────────────────────────────┼────────────────────────┼───────────────┤\n",
              "│ dense_7 (\u001b[38;5;33mDense\u001b[0m)                 │ (\u001b[38;5;45mNone\u001b[0m, \u001b[38;5;45mNone\u001b[0m, \u001b[38;5;34m41\u001b[0m)       │         \u001b[38;5;34m5,289\u001b[0m │\n",
              "└─────────────────────────────────┴────────────────────────┴───────────────┘\n"
            ],
            "text/html": [
              "<pre style=\"white-space:pre;overflow-x:auto;line-height:normal;font-family:Menlo,'DejaVu Sans Mono',consolas,'Courier New',monospace\">┏━━━━━━━━━━━━━━━━━━━━━━━━━━━━━━━━━┳━━━━━━━━━━━━━━━━━━━━━━━━┳━━━━━━━━━━━━━━━┓\n",
              "┃<span style=\"font-weight: bold\"> Layer (type)                    </span>┃<span style=\"font-weight: bold\"> Output Shape           </span>┃<span style=\"font-weight: bold\">       Param # </span>┃\n",
              "┡━━━━━━━━━━━━━━━━━━━━━━━━━━━━━━━━━╇━━━━━━━━━━━━━━━━━━━━━━━━╇━━━━━━━━━━━━━━━┩\n",
              "│ input_layer_7 (<span style=\"color: #0087ff; text-decoration-color: #0087ff\">InputLayer</span>)      │ (<span style=\"color: #00d7ff; text-decoration-color: #00d7ff\">None</span>, <span style=\"color: #00d7ff; text-decoration-color: #00d7ff\">None</span>)           │             <span style=\"color: #00af00; text-decoration-color: #00af00\">0</span> │\n",
              "├─────────────────────────────────┼────────────────────────┼───────────────┤\n",
              "│ embedding_7 (<span style=\"color: #0087ff; text-decoration-color: #0087ff\">Embedding</span>)         │ (<span style=\"color: #00d7ff; text-decoration-color: #00d7ff\">None</span>, <span style=\"color: #00d7ff; text-decoration-color: #00d7ff\">None</span>, <span style=\"color: #00af00; text-decoration-color: #00af00\">64</span>)       │         <span style=\"color: #00af00; text-decoration-color: #00af00\">2,624</span> │\n",
              "├─────────────────────────────────┼────────────────────────┼───────────────┤\n",
              "│ gru_2 (<span style=\"color: #0087ff; text-decoration-color: #0087ff\">GRU</span>)                     │ (<span style=\"color: #00d7ff; text-decoration-color: #00d7ff\">None</span>, <span style=\"color: #00d7ff; text-decoration-color: #00d7ff\">None</span>, <span style=\"color: #00af00; text-decoration-color: #00af00\">128</span>)      │        <span style=\"color: #00af00; text-decoration-color: #00af00\">74,496</span> │\n",
              "├─────────────────────────────────┼────────────────────────┼───────────────┤\n",
              "│ dropout_2 (<span style=\"color: #0087ff; text-decoration-color: #0087ff\">Dropout</span>)             │ (<span style=\"color: #00d7ff; text-decoration-color: #00d7ff\">None</span>, <span style=\"color: #00d7ff; text-decoration-color: #00d7ff\">None</span>, <span style=\"color: #00af00; text-decoration-color: #00af00\">128</span>)      │             <span style=\"color: #00af00; text-decoration-color: #00af00\">0</span> │\n",
              "├─────────────────────────────────┼────────────────────────┼───────────────┤\n",
              "│ gru_3 (<span style=\"color: #0087ff; text-decoration-color: #0087ff\">GRU</span>)                     │ (<span style=\"color: #00d7ff; text-decoration-color: #00d7ff\">None</span>, <span style=\"color: #00d7ff; text-decoration-color: #00d7ff\">None</span>, <span style=\"color: #00af00; text-decoration-color: #00af00\">128</span>)      │        <span style=\"color: #00af00; text-decoration-color: #00af00\">99,072</span> │\n",
              "├─────────────────────────────────┼────────────────────────┼───────────────┤\n",
              "│ cast_7 (<span style=\"color: #0087ff; text-decoration-color: #0087ff\">Cast</span>)                   │ (<span style=\"color: #00d7ff; text-decoration-color: #00d7ff\">None</span>, <span style=\"color: #00d7ff; text-decoration-color: #00d7ff\">None</span>, <span style=\"color: #00af00; text-decoration-color: #00af00\">128</span>)      │             <span style=\"color: #00af00; text-decoration-color: #00af00\">0</span> │\n",
              "├─────────────────────────────────┼────────────────────────┼───────────────┤\n",
              "│ dense_7 (<span style=\"color: #0087ff; text-decoration-color: #0087ff\">Dense</span>)                 │ (<span style=\"color: #00d7ff; text-decoration-color: #00d7ff\">None</span>, <span style=\"color: #00d7ff; text-decoration-color: #00d7ff\">None</span>, <span style=\"color: #00af00; text-decoration-color: #00af00\">41</span>)       │         <span style=\"color: #00af00; text-decoration-color: #00af00\">5,289</span> │\n",
              "└─────────────────────────────────┴────────────────────────┴───────────────┘\n",
              "</pre>\n"
            ]
          },
          "metadata": {}
        },
        {
          "output_type": "display_data",
          "data": {
            "text/plain": [
              "\u001b[1m Total params: \u001b[0m\u001b[38;5;34m544,449\u001b[0m (2.08 MB)\n"
            ],
            "text/html": [
              "<pre style=\"white-space:pre;overflow-x:auto;line-height:normal;font-family:Menlo,'DejaVu Sans Mono',consolas,'Courier New',monospace\"><span style=\"font-weight: bold\"> Total params: </span><span style=\"color: #00af00; text-decoration-color: #00af00\">544,449</span> (2.08 MB)\n",
              "</pre>\n"
            ]
          },
          "metadata": {}
        },
        {
          "output_type": "display_data",
          "data": {
            "text/plain": [
              "\u001b[1m Trainable params: \u001b[0m\u001b[38;5;34m181,481\u001b[0m (708.91 KB)\n"
            ],
            "text/html": [
              "<pre style=\"white-space:pre;overflow-x:auto;line-height:normal;font-family:Menlo,'DejaVu Sans Mono',consolas,'Courier New',monospace\"><span style=\"font-weight: bold\"> Trainable params: </span><span style=\"color: #00af00; text-decoration-color: #00af00\">181,481</span> (708.91 KB)\n",
              "</pre>\n"
            ]
          },
          "metadata": {}
        },
        {
          "output_type": "display_data",
          "data": {
            "text/plain": [
              "\u001b[1m Non-trainable params: \u001b[0m\u001b[38;5;34m0\u001b[0m (0.00 B)\n"
            ],
            "text/html": [
              "<pre style=\"white-space:pre;overflow-x:auto;line-height:normal;font-family:Menlo,'DejaVu Sans Mono',consolas,'Courier New',monospace\"><span style=\"font-weight: bold\"> Non-trainable params: </span><span style=\"color: #00af00; text-decoration-color: #00af00\">0</span> (0.00 B)\n",
              "</pre>\n"
            ]
          },
          "metadata": {}
        },
        {
          "output_type": "display_data",
          "data": {
            "text/plain": [
              "\u001b[1m Optimizer params: \u001b[0m\u001b[38;5;34m362,968\u001b[0m (1.38 MB)\n"
            ],
            "text/html": [
              "<pre style=\"white-space:pre;overflow-x:auto;line-height:normal;font-family:Menlo,'DejaVu Sans Mono',consolas,'Courier New',monospace\"><span style=\"font-weight: bold\"> Optimizer params: </span><span style=\"color: #00af00; text-decoration-color: #00af00\">362,968</span> (1.38 MB)\n",
              "</pre>\n"
            ]
          },
          "metadata": {}
        }
      ],
      "source": [
        "model.summary()"
      ]
    },
    {
      "cell_type": "markdown",
      "source": [],
      "metadata": {
        "id": "L-foD4plVH1z"
      }
    },
    {
      "cell_type": "markdown",
      "source": [
        "# Experiment 3:\n",
        "## Model used : Model 1\n",
        "## Batch Size = 128\n",
        "## Epochs = 2\n",
        "## Learning Rate = 0.002\n",
        "\n",
        "This Experiment still showed high losses.\n",
        "\n",
        "\n"
      ],
      "metadata": {
        "id": "89FG7kDWVIfk"
      }
    },
    {
      "cell_type": "code",
      "execution_count": null,
      "metadata": {
        "colab": {
          "base_uri": "https://localhost:8080/",
          "height": 556
        },
        "id": "EjVpX9yomzrp",
        "outputId": "2acff763-a6c7-4678-8275-94d1ec23a13e"
      },
      "outputs": [
        {
          "output_type": "stream",
          "name": "stdout",
          "text": [
            "Epoch 1/2\n",
            "\u001b[1m5277/5277\u001b[0m \u001b[32m━━━━━━━━━━━━━━━━━━━━\u001b[0m\u001b[37m\u001b[0m \u001b[1m47s\u001b[0m 9ms/step - loss: 1.6387 - val_loss: 1.2850\n",
            "Epoch 2/2\n",
            "\u001b[1m5277/5277\u001b[0m \u001b[32m━━━━━━━━━━━━━━━━━━━━\u001b[0m\u001b[37m\u001b[0m \u001b[1m45s\u001b[0m 8ms/step - loss: 1.3349 - val_loss: 1.2538\n"
          ]
        },
        {
          "output_type": "display_data",
          "data": {
            "text/plain": [
              "<Figure size 640x480 with 1 Axes>"
            ],
            "image/png": "[encoded data removed]"
          },
          "metadata": {}
        }
      ],
      "source": [
        "\n",
        "from tensorflow.keras import mixed_precision\n",
        "mixed_precision.set_global_policy('mixed_float16')\n",
        "\n",
        "\n",
        "BATCH_SIZE = 128\n",
        "\n",
        "train_ds = tf.data.Dataset.from_tensor_slices((X_train, y_train)) \\\n",
        "    .shuffle(5000) \\\n",
        "    .batch(BATCH_SIZE, drop_remainder=True) \\\n",
        "    .prefetch(tf.data.AUTOTUNE)\n",
        "\n",
        "val_ds = tf.data.Dataset.from_tensor_slices((X_val, y_val)) \\\n",
        "    .batch(BATCH_SIZE, drop_remainder=True) \\\n",
        "    .prefetch(tf.data.AUTOTUNE)\n",
        "\n",
        "\n",
        "model = build_flexible_model(len(vocab))\n",
        "\n",
        "\n",
        "optimizer = mixed_precision.LossScaleOptimizer(tf.keras.optimizers.Adam(learning_rate=0.002))\n",
        "\n",
        "\n",
        "model.compile(optimizer=optimizer,\n",
        "              loss=tf.keras.losses.SparseCategoricalCrossentropy(from_logits=True))\n",
        "\n",
        "history = model.fit(train_ds, validation_data=val_ds, epochs=2)\n",
        "\n",
        "\n",
        "import matplotlib.pyplot as plt\n",
        "\n",
        "plt.plot(history.history['val_loss'], label='Validation Loss')\n",
        "plt.title(\"Validation Loss Over Epochs\")\n",
        "plt.xlabel(\"Epoch\")\n",
        "plt.ylabel(\"Loss\")\n",
        "plt.legend()\n",
        "plt.grid(True)\n",
        "plt.tight_layout()\n",
        "plt.show()\n"
      ]
    },
    {
      "cell_type": "markdown",
      "source": [],
      "metadata": {
        "id": "bol4kZtkVS0g"
      }
    },
    {
      "cell_type": "markdown",
      "source": [
        "# Experiment 4:\n",
        "## Model used : Model 1\n",
        "## Batch Size = 128\n",
        "## Epochs = 10\n",
        "## Learning Rate = 0.0015\n",
        "\n",
        "This Experiment still showed high losses.\n",
        "\n",
        "\n"
      ],
      "metadata": {
        "id": "9Vf18LdaVTa7"
      }
    },
    {
      "cell_type": "code",
      "execution_count": null,
      "metadata": {
        "id": "Sn8-JKLHtb_K",
        "colab": {
          "base_uri": "https://localhost:8080/",
          "height": 834
        },
        "outputId": "1e28ee12-5b43-4a39-c499-8516fe0f11c3"
      },
      "outputs": [
        {
          "output_type": "stream",
          "name": "stdout",
          "text": [
            "Epoch 1/10\n",
            "\u001b[1m5277/5277\u001b[0m \u001b[32m━━━━━━━━━━━━━━━━━━━━\u001b[0m\u001b[37m\u001b[0m \u001b[1m47s\u001b[0m 8ms/step - loss: 1.6364 - val_loss: 1.2796\n",
            "Epoch 2/10\n",
            "\u001b[1m5277/5277\u001b[0m \u001b[32m━━━━━━━━━━━━━━━━━━━━\u001b[0m\u001b[37m\u001b[0m \u001b[1m45s\u001b[0m 8ms/step - loss: 1.3285 - val_loss: 1.2484\n",
            "Epoch 3/10\n",
            "\u001b[1m5277/5277\u001b[0m \u001b[32m━━━━━━━━━━━━━━━━━━━━\u001b[0m\u001b[37m\u001b[0m \u001b[1m44s\u001b[0m 8ms/step - loss: 1.3055 - val_loss: 1.2355\n",
            "Epoch 4/10\n",
            "\u001b[1m5277/5277\u001b[0m \u001b[32m━━━━━━━━━━━━━━━━━━━━\u001b[0m\u001b[37m\u001b[0m \u001b[1m44s\u001b[0m 8ms/step - loss: 1.2951 - val_loss: 1.2275\n",
            "Epoch 5/10\n",
            "\u001b[1m5277/5277\u001b[0m \u001b[32m━━━━━━━━━━━━━━━━━━━━\u001b[0m\u001b[37m\u001b[0m \u001b[1m45s\u001b[0m 8ms/step - loss: 1.2890 - val_loss: 1.2226\n",
            "Epoch 6/10\n",
            "\u001b[1m5277/5277\u001b[0m \u001b[32m━━━━━━━━━━━━━━━━━━━━\u001b[0m\u001b[37m\u001b[0m \u001b[1m45s\u001b[0m 8ms/step - loss: 1.2847 - val_loss: 1.2202\n",
            "Epoch 7/10\n",
            "\u001b[1m5277/5277\u001b[0m \u001b[32m━━━━━━━━━━━━━━━━━━━━\u001b[0m\u001b[37m\u001b[0m \u001b[1m45s\u001b[0m 8ms/step - loss: 1.2813 - val_loss: 1.2157\n",
            "Epoch 8/10\n",
            "\u001b[1m5277/5277\u001b[0m \u001b[32m━━━━━━━━━━━━━━━━━━━━\u001b[0m\u001b[37m\u001b[0m \u001b[1m45s\u001b[0m 8ms/step - loss: 1.2789 - val_loss: 1.2143\n",
            "Epoch 9/10\n",
            "\u001b[1m5277/5277\u001b[0m \u001b[32m━━━━━━━━━━━━━━━━━━━━\u001b[0m\u001b[37m\u001b[0m \u001b[1m45s\u001b[0m 8ms/step - loss: 1.2767 - val_loss: 1.2124\n",
            "Epoch 10/10\n",
            "\u001b[1m5277/5277\u001b[0m \u001b[32m━━━━━━━━━━━━━━━━━━━━\u001b[0m\u001b[37m\u001b[0m \u001b[1m45s\u001b[0m 8ms/step - loss: 1.2749 - val_loss: 1.2113\n"
          ]
        },
        {
          "output_type": "display_data",
          "data": {
            "text/plain": [
              "<Figure size 640x480 with 1 Axes>"
            ],
            "image/png": "[encoded data removed]"
          },
          "metadata": {}
        }
      ],
      "source": [
        "\n",
        "from tensorflow.keras import mixed_precision\n",
        "mixed_precision.set_global_policy('mixed_float16')\n",
        "\n",
        "\n",
        "BATCH_SIZE = 128\n",
        "\n",
        "\n",
        "train_ds = tf.data.Dataset.from_tensor_slices((X_train, y_train)) \\\n",
        "    .shuffle(5000) \\\n",
        "    .batch(BATCH_SIZE, drop_remainder=True) \\\n",
        "    .prefetch(tf.data.AUTOTUNE)\n",
        "\n",
        "val_ds = tf.data.Dataset.from_tensor_slices((X_val, y_val)) \\\n",
        "    .batch(BATCH_SIZE, drop_remainder=True) \\\n",
        "    .prefetch(tf.data.AUTOTUNE)\n",
        "\n",
        "\n",
        "model = build_flexible_model(len(vocab))\n",
        "\n",
        "\n",
        "optimizer = mixed_precision.LossScaleOptimizer(tf.keras.optimizers.Adam(learning_rate=0.0015))\n",
        "\n",
        "\n",
        "model.compile(optimizer=optimizer,\n",
        "              loss=tf.keras.losses.SparseCategoricalCrossentropy(from_logits=True))\n",
        "\n",
        "history = model.fit(train_ds, validation_data=val_ds, epochs=10)\n",
        "\n",
        "# Plot validation loss\n",
        "import matplotlib.pyplot as plt\n",
        "plt.plot(history.history['val_loss'], label='Validation Loss')\n",
        "plt.title(\"Validation Loss Over Epochs\")\n",
        "plt.xlabel(\"Epoch\")\n",
        "plt.ylabel(\"Loss\")\n",
        "plt.legend()\n",
        "plt.grid(True)\n",
        "plt.tight_layout()\n",
        "plt.show()\n"
      ]
    },
    {
      "cell_type": "code",
      "execution_count": null,
      "metadata": {
        "id": "cRqKnaa7D1k1"
      },
      "outputs": [],
      "source": []
    },
    {
      "cell_type": "code",
      "execution_count": null,
      "metadata": {
        "colab": {
          "base_uri": "https://localhost:8080/"
        },
        "id": "p685QdKED2d1",
        "outputId": "a07efbad-8eff-4f7b-f12e-ac8563526be8"
      },
      "outputs": [
        {
          "output_type": "stream",
          "name": "stdout",
          "text": [
            "a tale of two cities a story of the french revolution by charles dickens contents book the firstrecalled to life chapter i the period chapter ii the mail chapter iii the night shadows chapter iv the preparation chapter v the wineshop chapter vi the shoemaker book the secondthe golden thread chapter i five years later chapter ii a sight chapter iii a disappointment chapter iv congratulatory chapter v the jackal chapter vi hundreds of people chapter vii monseigneur in town chapter viii monseigneur\n",
            "Cleaned character count: 750,605\n"
          ]
        }
      ],
      "source": [
        "import re\n",
        "import string\n",
        "\n",
        "\n",
        "file_path = \"A Tale of Two Cities.txt\"\n",
        "with open(file_path, 'r', encoding='utf-8') as f:\n",
        "    text = f.read()\n",
        "\n",
        "\n",
        "start_marker = \"*** START OF THE PROJECT GUTENBERG EBOOK A TALE OF TWO CITIES ***\"\n",
        "end_marker = \"*** END OF THE PROJECT GUTENBERG EBOOK A TALE OF TWO CITIES ***\"\n",
        "start_idx = text.find(start_marker) + len(start_marker)\n",
        "end_idx = text.find(end_marker)\n",
        "cleaned_text = text[start_idx:end_idx].strip() if start_idx < end_idx else text.strip()\n",
        "\n",
        "# Normalize punctuation\n",
        "cleaned_text = cleaned_text.replace(\"’\", \"'\").replace(\"‘\", \"'\")\n",
        "cleaned_text = cleaned_text.replace(\"“\", '\"').replace(\"”\", '\"')\n",
        "\n",
        "# Lowercase\n",
        "cleaned_text = cleaned_text.lower()\n",
        "\n",
        "# Collapse dashes and ellipses\n",
        "cleaned_text = re.sub(r'-{2,}', '-', cleaned_text)\n",
        "cleaned_text = re.sub(r'\\.{3,}', '...', cleaned_text)\n",
        "\n",
        "# Filter allowed characters\n",
        "allowed_chars = set(string.ascii_lowercase + string.digits + \" .,!?:;'\\\"\\n\")\n",
        "cleaned_text = ''.join(c for c in cleaned_text if c in allowed_chars)\n",
        "\n",
        "# Normalize whitespace\n",
        "cleaned_text = re.sub(r'\\s+', ' ', cleaned_text)\n",
        "\n",
        "\n",
        "print(cleaned_text[:500])\n",
        "print(f\"Cleaned character count: {len(cleaned_text):,}\")\n"
      ]
    },
    {
      "cell_type": "code",
      "source": [],
      "metadata": {
        "id": "a7Ebk5UcWzDo"
      },
      "execution_count": null,
      "outputs": []
    },
    {
      "cell_type": "markdown",
      "source": [
        "# Experiment 5:\n",
        "## Model used : Model 1\n",
        "## Batch Size = 256\n",
        "## Epochs = 10\n",
        "## Learning Rate = 0.002\n",
        "\n",
        "This Experiment still showed high losses.\n",
        "\n",
        "\n"
      ],
      "metadata": {
        "id": "8JpqDAzYWzou"
      }
    },
    {
      "cell_type": "code",
      "execution_count": null,
      "metadata": {
        "colab": {
          "base_uri": "https://localhost:8080/",
          "height": 958
        },
        "id": "KlohuEVdm_XT",
        "outputId": "922e09e3-f9c0-457b-db7a-407cc2c43ca3"
      },
      "outputs": [
        {
          "output_type": "stream",
          "name": "stdout",
          "text": [
            "Using device: /device:GPU:0\n",
            "Mixed precision policy: <DTypePolicy \"mixed_float16\">\n",
            "Sample: a tale of two cities a story of the french revolution by charles dickens contents book the firstrecalled to life chapter i the period chapter ii the mail chapter iii the night shadows chapter iv the preparation chapter v the wineshop chapter vi the shoemaker book the secondthe golden thread chapter i five years later chapter ii a sight chapter iii a disappointment chapter iv congratulatory chapter v the jackal chapter vi hundreds of people chapter vii monseigneur in town chapter viii monseigneur\n",
            "Total characters: 750605\n",
            "Epoch 1/10\n"
          ]
        },
        {
          "output_type": "stream",
          "name": "stderr",
          "text": [
            "/usr/local/lib/python3.11/dist-packages/keras/src/layers/core/embedding.py:93: UserWarning: Do not pass an `input_shape`/`input_dim` argument to a layer. When using Sequential models, prefer using an `Input(shape)` object as the first layer in the model instead.\n",
            "  super().__init__(**kwargs)\n"
          ]
        },
        {
          "output_type": "stream",
          "name": "stdout",
          "text": [
            "\u001b[1m5277/5277\u001b[0m \u001b[32m━━━━━━━━━━━━━━━━━━━━\u001b[0m\u001b[37m\u001b[0m \u001b[1m47s\u001b[0m 8ms/step - loss: 1.6362 - val_loss: 1.2839\n",
            "Epoch 2/10\n",
            "\u001b[1m5277/5277\u001b[0m \u001b[32m━━━━━━━━━━━━━━━━━━━━\u001b[0m\u001b[37m\u001b[0m \u001b[1m44s\u001b[0m 8ms/step - loss: 1.3339 - val_loss: 1.2540\n",
            "Epoch 3/10\n",
            "\u001b[1m5277/5277\u001b[0m \u001b[32m━━━━━━━━━━━━━━━━━━━━\u001b[0m\u001b[37m\u001b[0m \u001b[1m44s\u001b[0m 8ms/step - loss: 1.3114 - val_loss: 1.2414\n",
            "Epoch 4/10\n",
            "\u001b[1m5277/5277\u001b[0m \u001b[32m━━━━━━━━━━━━━━━━━━━━\u001b[0m\u001b[37m\u001b[0m \u001b[1m44s\u001b[0m 8ms/step - loss: 1.3009 - val_loss: 1.2337\n",
            "Epoch 5/10\n",
            "\u001b[1m5277/5277\u001b[0m \u001b[32m━━━━━━━━━━━━━━━━━━━━\u001b[0m\u001b[37m\u001b[0m \u001b[1m44s\u001b[0m 8ms/step - loss: 1.2946 - val_loss: 1.2305\n",
            "Epoch 6/10\n",
            "\u001b[1m5277/5277\u001b[0m \u001b[32m━━━━━━━━━━━━━━━━━━━━\u001b[0m\u001b[37m\u001b[0m \u001b[1m44s\u001b[0m 8ms/step - loss: 1.2901 - val_loss: 1.2277\n",
            "Epoch 7/10\n",
            "\u001b[1m5277/5277\u001b[0m \u001b[32m━━━━━━━━━━━━━━━━━━━━\u001b[0m\u001b[37m\u001b[0m \u001b[1m44s\u001b[0m 8ms/step - loss: 1.2866 - val_loss: 1.2221\n",
            "Epoch 8/10\n",
            "\u001b[1m5277/5277\u001b[0m \u001b[32m━━━━━━━━━━━━━━━━━━━━\u001b[0m\u001b[37m\u001b[0m \u001b[1m44s\u001b[0m 8ms/step - loss: 1.2843 - val_loss: 1.2217\n",
            "Epoch 9/10\n",
            "\u001b[1m5277/5277\u001b[0m \u001b[32m━━━━━━━━━━━━━━━━━━━━\u001b[0m\u001b[37m\u001b[0m \u001b[1m44s\u001b[0m 8ms/step - loss: 1.2825 - val_loss: 1.2202\n",
            "Epoch 10/10\n",
            "\u001b[1m5277/5277\u001b[0m \u001b[32m━━━━━━━━━━━━━━━━━━━━\u001b[0m\u001b[37m\u001b[0m \u001b[1m44s\u001b[0m 8ms/step - loss: 1.2804 - val_loss: 1.2182\n"
          ]
        },
        {
          "output_type": "display_data",
          "data": {
            "text/plain": [
              "<Figure size 640x480 with 1 Axes>"
            ],
            "image/png": "[encoded data removed]"
          },
          "metadata": {}
        }
      ],
      "source": [
        "\n",
        "import re\n",
        "import string\n",
        "import numpy as np\n",
        "import matplotlib.pyplot as plt\n",
        "import tensorflow as tf\n",
        "from tensorflow.keras import mixed_precision\n",
        "from sklearn.model_selection import train_test_split\n",
        "\n",
        "\n",
        "mixed_precision.set_global_policy('mixed_float16')\n",
        "print(\"Using device:\", tf.test.gpu_device_name())\n",
        "print(\"Mixed precision policy:\", mixed_precision.global_policy())\n",
        "\n",
        "\n",
        "file_path = \"A Tale of Two Cities.txt\"\n",
        "with open(file_path, 'r', encoding='utf-8') as f:\n",
        "    text = f.read()\n",
        "\n",
        "start_marker = \"*** START OF THE PROJECT GUTENBERG EBOOK A TALE OF TWO CITIES ***\"\n",
        "end_marker = \"*** END OF THE PROJECT GUTENBERG EBOOK A TALE OF TWO CITIES ***\"\n",
        "start_idx = text.find(start_marker) + len(start_marker)\n",
        "end_idx = text.find(end_marker)\n",
        "cleaned_text = text[start_idx:end_idx].strip()\n",
        "\n",
        "cleaned_text = cleaned_text.replace(\"’\", \"'\").replace(\"‘\", \"'\").replace(\"“\", '\"').replace(\"”\", '\"')\n",
        "cleaned_text = cleaned_text.lower()\n",
        "cleaned_text = re.sub(r'-{2,}', '-', cleaned_text)\n",
        "cleaned_text = re.sub(r'\\.{3,}', '...', cleaned_text)\n",
        "allowed_chars = set(string.ascii_lowercase + string.digits + \" .,!?:;'\\\"\\n\")\n",
        "cleaned_text = ''.join(c for c in cleaned_text if c in allowed_chars)\n",
        "cleaned_text = re.sub(r'\\s+', ' ', cleaned_text)\n",
        "print(\"Sample:\", cleaned_text[:500])\n",
        "print(\"Total characters:\", len(cleaned_text))\n",
        "\n",
        "\n",
        "vocab = sorted(set(cleaned_text))\n",
        "char2idx = {u: i for i, u in enumerate(vocab)}\n",
        "idx2char = np.array(vocab)\n",
        "encoded_text = np.array([char2idx[c] for c in cleaned_text], dtype=np.uint16)\n",
        "\n",
        "\n",
        "SEQ_LENGTH = 40\n",
        "input_seqs = []\n",
        "target_seqs = []\n",
        "\n",
        "for i in range(len(encoded_text) - SEQ_LENGTH):\n",
        "    input_seqs.append(encoded_text[i:i+SEQ_LENGTH])\n",
        "    target_seqs.append(encoded_text[i+1:i+SEQ_LENGTH+1])\n",
        "\n",
        "input_seqs = np.array(input_seqs)\n",
        "target_seqs = np.array(target_seqs)\n",
        "\n",
        "\n",
        "X_train, X_val, y_train, y_val = train_test_split(input_seqs, target_seqs, test_size=0.1)\n",
        "\n",
        "\n",
        "BATCH_SIZE = 256\n",
        "\n",
        "train_ds = tf.data.Dataset.from_tensor_slices((X_train, y_train)) \\\n",
        "    .shuffle(5000) \\\n",
        "    .batch(BATCH_SIZE, drop_remainder=True) \\\n",
        "    .prefetch(tf.data.AUTOTUNE)\n",
        "\n",
        "val_ds = tf.data.Dataset.from_tensor_slices((X_val, y_val)) \\\n",
        "    .batch(BATCH_SIZE, drop_remainder=True) \\\n",
        "    .prefetch(tf.data.AUTOTUNE)\n",
        "\n",
        "\n",
        "def build_flexible_model(vocab_size, embedding_dim=64, rnn_units=128, use_gru=True):\n",
        "    model = tf.keras.Sequential()\n",
        "    model.add(tf.keras.layers.Embedding(vocab_size, embedding_dim, input_shape=(None,)))\n",
        "    if use_gru:\n",
        "        model.add(tf.keras.layers.GRU(rnn_units, return_sequences=True))\n",
        "        model.add(tf.keras.layers.Dropout(0.2))\n",
        "        model.add(tf.keras.layers.GRU(rnn_units, return_sequences=True))\n",
        "    else:\n",
        "        model.add(tf.keras.layers.LSTM(rnn_units, return_sequences=True))\n",
        "        model.add(tf.keras.layers.Dropout(0.2))\n",
        "        model.add(tf.keras.layers.LSTM(rnn_units, return_sequences=True))\n",
        "    model.add(tf.keras.layers.Dense(vocab_size, dtype='float32'))  # Ensure float32 output for loss\n",
        "    return model\n",
        "\n",
        "\n",
        "model = build_flexible_model(len(vocab))\n",
        "optimizer = mixed_precision.LossScaleOptimizer(tf.keras.optimizers.Adam(learning_rate=0.002))\n",
        "\n",
        "model.compile(optimizer=optimizer,\n",
        "              loss=tf.keras.losses.SparseCategoricalCrossentropy(from_logits=True))\n",
        "\n",
        "history = model.fit(train_ds, validation_data=val_ds, epochs=10)\n",
        "\n",
        "\n",
        "plt.plot(history.history['val_loss'], label='Validation Loss')\n",
        "plt.title(\"Validation Loss Over Epochs\")\n",
        "plt.xlabel(\"Epoch\")\n",
        "plt.ylabel(\"Loss\")\n",
        "plt.legend()\n",
        "plt.grid(True)\n",
        "plt.tight_layout()\n",
        "plt.show()\n"
      ]
    },
    {
      "cell_type": "markdown",
      "source": [],
      "metadata": {
        "id": "pELGzeRZXjwl"
      }
    },
    {
      "cell_type": "markdown",
      "source": [
        "# Experiment 6:\n",
        "## Model used : Model 1\n",
        "## Batch Size = 128\n",
        "## Epochs = 10\n",
        "## Learning Rate = 0.01\n",
        "\n",
        "This Experiment still showed very high losses.\n",
        "\n",
        "\n"
      ],
      "metadata": {
        "id": "gEKR0TIcXkzi"
      }
    },
    {
      "cell_type": "code",
      "execution_count": null,
      "metadata": {
        "colab": {
          "base_uri": "https://localhost:8080/",
          "height": 823
        },
        "id": "_g3y3dvxoNUl",
        "outputId": "4b2e39be-2f25-4db4-a1fa-efd2cba5741e"
      },
      "outputs": [
        {
          "output_type": "stream",
          "name": "stdout",
          "text": [
            "Epoch 1/10\n",
            "\u001b[1m5277/5277\u001b[0m \u001b[32m━━━━━━━━━━━━━━━━━━━━\u001b[0m\u001b[37m\u001b[0m \u001b[1m51s\u001b[0m 9ms/step - accuracy: 0.5036 - loss: 1.6356 - val_accuracy: 0.5023 - val_loss: 1.6338\n",
            "Epoch 2/10\n",
            "\u001b[1m5277/5277\u001b[0m \u001b[32m━━━━━━━━━━━━━━━━━━━━\u001b[0m\u001b[37m\u001b[0m \u001b[1m48s\u001b[0m 9ms/step - accuracy: 0.4821 - loss: 1.7026 - val_accuracy: 0.3423 - val_loss: 2.2315\n",
            "Epoch 3/10\n",
            "\u001b[1m5277/5277\u001b[0m \u001b[32m━━━━━━━━━━━━━━━━━━━━\u001b[0m\u001b[37m\u001b[0m \u001b[1m48s\u001b[0m 9ms/step - accuracy: 0.3342 - loss: 2.2645 - val_accuracy: 0.3411 - val_loss: 2.2313\n",
            "Epoch 4/10\n",
            "\u001b[1m5277/5277\u001b[0m \u001b[32m━━━━━━━━━━━━━━━━━━━━\u001b[0m\u001b[37m\u001b[0m \u001b[1m49s\u001b[0m 9ms/step - accuracy: 0.3220 - loss: 2.3177 - val_accuracy: 0.3274 - val_loss: 2.2920\n",
            "Epoch 5/10\n",
            "\u001b[1m5277/5277\u001b[0m \u001b[32m━━━━━━━━━━━━━━━━━━━━\u001b[0m\u001b[37m\u001b[0m \u001b[1m48s\u001b[0m 9ms/step - accuracy: 0.3226 - loss: 2.3170 - val_accuracy: 0.3434 - val_loss: 2.2149\n",
            "Epoch 6/10\n",
            "\u001b[1m5277/5277\u001b[0m \u001b[32m━━━━━━━━━━━━━━━━━━━━\u001b[0m\u001b[37m\u001b[0m \u001b[1m48s\u001b[0m 9ms/step - accuracy: 0.3331 - loss: 2.2700 - val_accuracy: 0.3451 - val_loss: 2.2477\n",
            "Epoch 7/10\n",
            "\u001b[1m5277/5277\u001b[0m \u001b[32m━━━━━━━━━━━━━━━━━━━━\u001b[0m\u001b[37m\u001b[0m \u001b[1m48s\u001b[0m 9ms/step - accuracy: 0.3334 - loss: 2.2838 - val_accuracy: 0.3545 - val_loss: 2.1681\n",
            "Epoch 8/10\n",
            "\u001b[1m5277/5277\u001b[0m \u001b[32m━━━━━━━━━━━━━━━━━━━━\u001b[0m\u001b[37m\u001b[0m \u001b[1m48s\u001b[0m 9ms/step - accuracy: 0.3492 - loss: 2.1967 - val_accuracy: 0.3793 - val_loss: 2.0765\n",
            "Epoch 9/10\n",
            "\u001b[1m5277/5277\u001b[0m \u001b[32m━━━━━━━━━━━━━━━━━━━━\u001b[0m\u001b[37m\u001b[0m \u001b[1m48s\u001b[0m 9ms/step - accuracy: 0.3687 - loss: 2.1123 - val_accuracy: 0.4059 - val_loss: 1.9627\n",
            "Epoch 10/10\n",
            "\u001b[1m5277/5277\u001b[0m \u001b[32m━━━━━━━━━━━━━━━━━━━━\u001b[0m\u001b[37m\u001b[0m \u001b[1m48s\u001b[0m 9ms/step - accuracy: 0.3968 - loss: 1.9963 - val_accuracy: 0.4295 - val_loss: 1.8873\n"
          ]
        },
        {
          "output_type": "display_data",
          "data": {
            "text/plain": [
              "<Figure size 1200x500 with 2 Axes>"
            ],
            "image/png": "[encoded data removed]"
          },
          "metadata": {}
        }
      ],
      "source": [
        "from tensorflow.keras import mixed_precision\n",
        "\n",
        "\n",
        "mixed_precision.set_global_policy('mixed_float16')\n",
        "\n",
        "\n",
        "BATCH_SIZE = 128\n",
        "\n",
        "\n",
        "train_ds = tf.data.Dataset.from_tensor_slices((X_train, y_train)) \\\n",
        "    .shuffle(5000) \\\n",
        "    .batch(BATCH_SIZE, drop_remainder=True) \\\n",
        "    .prefetch(tf.data.AUTOTUNE)\n",
        "\n",
        "val_ds = tf.data.Dataset.from_tensor_slices((X_val, y_val)) \\\n",
        "    .batch(BATCH_SIZE, drop_remainder=True) \\\n",
        "    .prefetch(tf.data.AUTOTUNE)\n",
        "\n",
        "\n",
        "model = build_flexible_model(len(vocab))\n",
        "\n",
        "\n",
        "optimizer = mixed_precision.LossScaleOptimizer(tf.keras.optimizers.Adam(learning_rate=0.01))\n",
        "model.compile(\n",
        "    optimizer=optimizer,\n",
        "    loss=tf.keras.losses.SparseCategoricalCrossentropy(from_logits=True),\n",
        "    metrics=['accuracy']\n",
        ")\n",
        "\n",
        "\n",
        "history = model.fit(train_ds, validation_data=val_ds, epochs=10)\n",
        "\n",
        "\n",
        "plt.figure(figsize=(12, 5))\n",
        "\n",
        "# Loss\n",
        "plt.subplot(1, 2, 1)\n",
        "plt.plot(history.history['val_loss'], label='Validation Loss', color='blue')\n",
        "plt.title(\"Validation Loss Over Epochs\")\n",
        "plt.xlabel(\"Epoch\")\n",
        "plt.ylabel(\"Loss\")\n",
        "plt.legend()\n",
        "plt.grid(True)\n",
        "\n",
        "# Accuracy\n",
        "plt.subplot(1, 2, 2)\n",
        "plt.plot(history.history['val_accuracy'], label='Validation Accuracy', color='green')\n",
        "plt.title(\"Validation Accuracy Over Epochs\")\n",
        "plt.xlabel(\"Epoch\")\n",
        "plt.ylabel(\"Accuracy\")\n",
        "plt.legend()\n",
        "plt.grid(True)\n",
        "\n",
        "plt.tight_layout()\n",
        "plt.show()\n"
      ]
    },
    {
      "cell_type": "code",
      "execution_count": null,
      "metadata": {
        "id": "zagUYy2KtRJi"
      },
      "outputs": [],
      "source": [
        "# Model 2"
      ]
    },
    {
      "cell_type": "markdown",
      "source": [
        "# Model 2: Bidirectional GRU Model\n",
        "\n",
        "This model uses a **Bidirectional GRU** layer for sequence processing and is designed for text generation.\n",
        "\n",
        "## Architecture:\n",
        "1. **Input Layer**: Takes integer-encoded sequences with variable length.\n",
        "2. **Embedding Layer**: Converts input tokens into dense vectors of size **32**.\n",
        "3. **Bidirectional GRU**: A **GRU** layer with **64 units** processes the input sequence in both forward and backward directions, capturing context from both ends.\n",
        "4. **Dropout Layer**: Optionally applies **Dropout (0.2)** to prevent overfitting.\n",
        "5. **Dense Output Layer**: Outputs a probability distribution over the vocabulary.\n",
        "\n",
        "\n",
        "\n",
        "\n"
      ],
      "metadata": {
        "id": "S2HM5k9Afbn7"
      }
    },
    {
      "cell_type": "code",
      "execution_count": null,
      "metadata": {
        "id": "kcWr7zTzuWOs"
      },
      "outputs": [],
      "source": [
        "def build_bidirectional_gru_model(vocab_size, embedding_dim=32, rnn_units=64, use_dropout=True):\n",
        "    inputs = tf.keras.Input(shape=(None,), dtype=tf.int32)\n",
        "    x = tf.keras.layers.Embedding(vocab_size, embedding_dim)(inputs)\n",
        "\n",
        "    # Bidirectional GRU\n",
        "    x = tf.keras.layers.Bidirectional(\n",
        "        tf.keras.layers.GRU(rnn_units, return_sequences=True)\n",
        "    )(x)\n",
        "\n",
        "    if use_dropout:\n",
        "        x = tf.keras.layers.Dropout(0.2)(x)\n",
        "\n",
        "\n",
        "    outputs = tf.keras.layers.Dense(vocab_size, dtype='float32')(x)\n",
        "\n",
        "    return tf.keras.Model(inputs, outputs)\n"
      ]
    },
    {
      "cell_type": "markdown",
      "source": [],
      "metadata": {
        "id": "pzrJNUgwfzPt"
      }
    },
    {
      "cell_type": "markdown",
      "source": [
        "# Experiment 7\n",
        "## Model used : Model 2\n",
        "## Batch Size = 128\n",
        "## Epochs = 10\n",
        "## Learning Rate = 0.002\n",
        "\n",
        "This Experiment showed small losses and high accuracy.\n",
        "\n",
        "\n"
      ],
      "metadata": {
        "id": "mZkskki4fzz1"
      }
    },
    {
      "cell_type": "code",
      "execution_count": null,
      "metadata": {
        "id": "UPJWnSEDujKp",
        "colab": {
          "base_uri": "https://localhost:8080/"
        },
        "outputId": "64ba5005-a19c-4d1b-e491-eeec1ef86e59"
      },
      "outputs": [
        {
          "output_type": "stream",
          "name": "stdout",
          "text": [
            "Epoch 1/10\n",
            "\u001b[1m5277/5277\u001b[0m \u001b[32m━━━━━━━━━━━━━━━━━━━━\u001b[0m\u001b[37m\u001b[0m \u001b[1m46s\u001b[0m 8ms/step - accuracy: 0.9385 - loss: 0.2431 - val_accuracy: 0.9871 - val_loss: 0.0430\n",
            "Epoch 2/10\n",
            "\u001b[1m5277/5277\u001b[0m \u001b[32m━━━━━━━━━━━━━━━━━━━━\u001b[0m\u001b[37m\u001b[0m \u001b[1m43s\u001b[0m 8ms/step - accuracy: 0.9868 - loss: 0.0444 - val_accuracy: 0.9877 - val_loss: 0.0408\n",
            "Epoch 3/10\n",
            "\u001b[1m5277/5277\u001b[0m \u001b[32m━━━━━━━━━━━━━━━━━━━━\u001b[0m\u001b[37m\u001b[0m \u001b[1m44s\u001b[0m 8ms/step - accuracy: 0.9872 - loss: 0.0425 - val_accuracy: 0.9879 - val_loss: 0.0400\n",
            "Epoch 4/10\n",
            "\u001b[1m5277/5277\u001b[0m \u001b[32m━━━━━━━━━━━━━━━━━━━━\u001b[0m\u001b[37m\u001b[0m \u001b[1m44s\u001b[0m 8ms/step - accuracy: 0.9875 - loss: 0.0418 - val_accuracy: 0.9880 - val_loss: 0.0396\n",
            "Epoch 5/10\n",
            "\u001b[1m5277/5277\u001b[0m \u001b[32m━━━━━━━━━━━━━━━━━━━━\u001b[0m\u001b[37m\u001b[0m \u001b[1m44s\u001b[0m 8ms/step - accuracy: 0.9876 - loss: 0.0414 - val_accuracy: 0.9881 - val_loss: 0.0392\n",
            "Epoch 6/10\n",
            "\u001b[1m5277/5277\u001b[0m \u001b[32m━━━━━━━━━━━━━━━━━━━━\u001b[0m\u001b[37m\u001b[0m \u001b[1m44s\u001b[0m 8ms/step - accuracy: 0.9876 - loss: 0.0410 - val_accuracy: 0.9882 - val_loss: 0.0390\n",
            "Epoch 7/10\n",
            "\u001b[1m5277/5277\u001b[0m \u001b[32m━━━━━━━━━━━━━━━━━━━━\u001b[0m\u001b[37m\u001b[0m \u001b[1m43s\u001b[0m 8ms/step - accuracy: 0.9877 - loss: 0.0409 - val_accuracy: 0.9882 - val_loss: 0.0389\n",
            "Epoch 8/10\n",
            "\u001b[1m5277/5277\u001b[0m \u001b[32m━━━━━━━━━━━━━━━━━━━━\u001b[0m\u001b[37m\u001b[0m \u001b[1m43s\u001b[0m 8ms/step - accuracy: 0.9878 - loss: 0.0407 - val_accuracy: 0.9882 - val_loss: 0.0389\n",
            "Epoch 9/10\n",
            "\u001b[1m5277/5277\u001b[0m \u001b[32m━━━━━━━━━━━━━━━━━━━━\u001b[0m\u001b[37m\u001b[0m \u001b[1m43s\u001b[0m 8ms/step - accuracy: 0.9878 - loss: 0.0405 - val_accuracy: 0.9882 - val_loss: 0.0389\n",
            "Epoch 10/10\n",
            "\u001b[1m5277/5277\u001b[0m \u001b[32m━━━━━━━━━━━━━━━━━━━━\u001b[0m\u001b[37m\u001b[0m \u001b[1m43s\u001b[0m 8ms/step - accuracy: 0.9878 - loss: 0.0404 - val_accuracy: 0.9883 - val_loss: 0.0386\n"
          ]
        }
      ],
      "source": [
        "from tensorflow.keras import mixed_precision\n",
        "\n",
        "\n",
        "mixed_precision.set_global_policy('mixed_float16')\n",
        "\n",
        "\n",
        "BATCH_SIZE = 128\n",
        "\n",
        "\n",
        "train_ds = tf.data.Dataset.from_tensor_slices((X_train, y_train)) \\\n",
        "    .shuffle(5000) \\\n",
        "    .batch(BATCH_SIZE, drop_remainder=True) \\\n",
        "    .prefetch(tf.data.AUTOTUNE)\n",
        "\n",
        "val_ds = tf.data.Dataset.from_tensor_slices((X_val, y_val)) \\\n",
        "    .batch(BATCH_SIZE, drop_remainder=True) \\\n",
        "    .prefetch(tf.data.AUTOTUNE)\n",
        "\n",
        "\n",
        "model = build_bidirectional_gru_model(len(vocab))\n",
        "\n",
        "\n",
        "optimizer = mixed_precision.LossScaleOptimizer(\n",
        "    tf.keras.optimizers.Adam(learning_rate=0.002)\n",
        ")\n",
        "\n",
        "# Compile and train\n",
        "model.compile(\n",
        "    optimizer=optimizer,\n",
        "    loss=tf.keras.losses.SparseCategoricalCrossentropy(from_logits=True),\n",
        "    metrics=['accuracy']\n",
        ")\n",
        "\n",
        "history = model.fit(train_ds, validation_data=val_ds, epochs=10)\n"
      ]
    },
    {
      "cell_type": "code",
      "execution_count": null,
      "metadata": {
        "id": "AEKTFQGcukJ3",
        "colab": {
          "base_uri": "https://localhost:8080/",
          "height": 487
        },
        "outputId": "71113ed7-9224-4274-c2a1-6df5afe619f8"
      },
      "outputs": [
        {
          "output_type": "display_data",
          "data": {
            "text/plain": [
              "<Figure size 640x480 with 1 Axes>"
            ],
            "image/png": "[encoded data removed]"
          },
          "metadata": {}
        }
      ],
      "source": [
        "plt.plot(history.history['val_loss'], label='Validation Loss')\n",
        "plt.plot(history.history['val_accuracy'], label='Validation Accuracy')\n",
        "plt.title(\"Model Evaluation\")\n",
        "plt.xlabel(\"Epoch\")\n",
        "plt.ylabel(\"Metric\")\n",
        "plt.legend()\n",
        "plt.grid(True)\n",
        "plt.tight_layout()\n",
        "plt.show()\n"
      ]
    },
    {
      "cell_type": "markdown",
      "source": [],
      "metadata": {
        "id": "OxZCn38VgFhT"
      }
    },
    {
      "cell_type": "markdown",
      "source": [
        "# Experiment 7\n",
        "## Model used : Model 2\n",
        "## Batch Size = 128\n",
        "## Epochs = 10\n",
        "## Learning Rate = 0.01\n",
        "\n",
        "This Experiment showed small losses and high accuracy.\n",
        "\n",
        "\n"
      ],
      "metadata": {
        "id": "_8oBOVwcgGE6"
      }
    },
    {
      "cell_type": "code",
      "execution_count": null,
      "metadata": {
        "id": "8LYnhWbVvAH_",
        "colab": {
          "base_uri": "https://localhost:8080/"
        },
        "outputId": "9a2970a0-9580-4047-8fa0-113d44378ac8"
      },
      "outputs": [
        {
          "output_type": "stream",
          "name": "stdout",
          "text": [
            "Epoch 1/10\n",
            "\u001b[1m5277/5277\u001b[0m \u001b[32m━━━━━━━━━━━━━━━━━━━━\u001b[0m\u001b[37m\u001b[0m \u001b[1m46s\u001b[0m 8ms/step - accuracy: 0.9394 - loss: 0.2419 - val_accuracy: 0.9870 - val_loss: 0.0431\n",
            "Epoch 2/10\n",
            "\u001b[1m5277/5277\u001b[0m \u001b[32m━━━━━━━━━━━━━━━━━━━━\u001b[0m\u001b[37m\u001b[0m \u001b[1m43s\u001b[0m 8ms/step - accuracy: 0.9867 - loss: 0.0444 - val_accuracy: 0.9876 - val_loss: 0.0409\n",
            "Epoch 3/10\n",
            "\u001b[1m5277/5277\u001b[0m \u001b[32m━━━━━━━━━━━━━━━━━━━━\u001b[0m\u001b[37m\u001b[0m \u001b[1m43s\u001b[0m 8ms/step - accuracy: 0.9872 - loss: 0.0425 - val_accuracy: 0.9878 - val_loss: 0.0400\n",
            "Epoch 4/10\n",
            "\u001b[1m5277/5277\u001b[0m \u001b[32m━━━━━━━━━━━━━━━━━━━━\u001b[0m\u001b[37m\u001b[0m \u001b[1m43s\u001b[0m 8ms/step - accuracy: 0.9874 - loss: 0.0417 - val_accuracy: 0.9880 - val_loss: 0.0395\n",
            "Epoch 5/10\n",
            "\u001b[1m5277/5277\u001b[0m \u001b[32m━━━━━━━━━━━━━━━━━━━━\u001b[0m\u001b[37m\u001b[0m \u001b[1m43s\u001b[0m 8ms/step - accuracy: 0.9875 - loss: 0.0413 - val_accuracy: 0.9881 - val_loss: 0.0393\n",
            "Epoch 6/10\n",
            "\u001b[1m5277/5277\u001b[0m \u001b[32m━━━━━━━━━━━━━━━━━━━━\u001b[0m\u001b[37m\u001b[0m \u001b[1m43s\u001b[0m 8ms/step - accuracy: 0.9876 - loss: 0.0410 - val_accuracy: 0.9881 - val_loss: 0.0391\n",
            "Epoch 7/10\n",
            "\u001b[1m5277/5277\u001b[0m \u001b[32m━━━━━━━━━━━━━━━━━━━━\u001b[0m\u001b[37m\u001b[0m \u001b[1m43s\u001b[0m 8ms/step - accuracy: 0.9877 - loss: 0.0408 - val_accuracy: 0.9882 - val_loss: 0.0390\n",
            "Epoch 8/10\n",
            "\u001b[1m5277/5277\u001b[0m \u001b[32m━━━━━━━━━━━━━━━━━━━━\u001b[0m\u001b[37m\u001b[0m \u001b[1m43s\u001b[0m 8ms/step - accuracy: 0.9877 - loss: 0.0406 - val_accuracy: 0.9882 - val_loss: 0.0387\n",
            "Epoch 9/10\n",
            "\u001b[1m5277/5277\u001b[0m \u001b[32m━━━━━━━━━━━━━━━━━━━━\u001b[0m\u001b[37m\u001b[0m \u001b[1m43s\u001b[0m 8ms/step - accuracy: 0.9878 - loss: 0.0405 - val_accuracy: 0.9883 - val_loss: 0.0386\n",
            "Epoch 10/10\n",
            "\u001b[1m5277/5277\u001b[0m \u001b[32m━━━━━━━━━━━━━━━━━━━━\u001b[0m\u001b[37m\u001b[0m \u001b[1m43s\u001b[0m 8ms/step - accuracy: 0.9878 - loss: 0.0404 - val_accuracy: 0.9882 - val_loss: 0.0387\n"
          ]
        }
      ],
      "source": [
        "from tensorflow.keras import mixed_precision\n",
        "\n",
        "\n",
        "mixed_precision.set_global_policy('mixed_float16')\n",
        "\n",
        "\n",
        "BATCH_SIZE = 128\n",
        "\n",
        "\n",
        "train_ds = tf.data.Dataset.from_tensor_slices((X_train, y_train)) \\\n",
        "    .shuffle(5000) \\\n",
        "    .batch(BATCH_SIZE, drop_remainder=True) \\\n",
        "    .prefetch(tf.data.AUTOTUNE)\n",
        "\n",
        "val_ds = tf.data.Dataset.from_tensor_slices((X_val, y_val)) \\\n",
        "    .batch(BATCH_SIZE, drop_remainder=True) \\\n",
        "    .prefetch(tf.data.AUTOTUNE)\n",
        "\n",
        "\n",
        "model = build_bidirectional_gru_model(len(vocab))\n",
        "\n",
        "\n",
        "optimizer = mixed_precision.LossScaleOptimizer(\n",
        "    tf.keras.optimizers.Adam(learning_rate=0.01)\n",
        ")\n",
        "\n",
        "\n",
        "model.compile(\n",
        "    optimizer=optimizer,\n",
        "    loss=tf.keras.losses.SparseCategoricalCrossentropy(from_logits=True),\n",
        "    metrics=['accuracy']\n",
        ")\n",
        "\n",
        "# Train the model\n",
        "history = model.fit(train_ds, validation_data=val_ds, epochs=10)\n"
      ]
    },
    {
      "cell_type": "code",
      "execution_count": null,
      "metadata": {
        "id": "_ldrVdqxvErt",
        "colab": {
          "base_uri": "https://localhost:8080/",
          "height": 487
        },
        "outputId": "99d38eb9-6aac-4b1c-e841-e27ef7698d27"
      },
      "outputs": [
        {
          "output_type": "display_data",
          "data": {
            "text/plain": [
              "<Figure size 640x480 with 1 Axes>"
            ],
            "image/png": "[encoded data removed]"
          },
          "metadata": {}
        }
      ],
      "source": [
        "plt.plot(history.history['val_loss'], label='Validation Loss')\n",
        "plt.plot(history.history['val_accuracy'], label='Validation Accuracy')\n",
        "plt.title(\"Model Evaluation\")\n",
        "plt.xlabel(\"Epoch\")\n",
        "plt.ylabel(\"Metric\")\n",
        "plt.legend()\n",
        "plt.grid(True)\n",
        "plt.tight_layout()\n",
        "plt.show()"
      ]
    },
    {
      "cell_type": "markdown",
      "source": [],
      "metadata": {
        "id": "90A0b30xgOzX"
      }
    },
    {
      "cell_type": "markdown",
      "source": [
        "# Experiment 8\n",
        "## Model used : Model 2\n",
        "## Batch Size = 256\n",
        "## Epochs = 10\n",
        "## Learning Rate = 0.002\n",
        "\n",
        "This Experiment showed small losses and high accuracy.But for some epochs it showed loss as nan, This can be due to high learning rate and exploding gradients. So this experiment is not optimal.\n",
        "\n",
        "\n"
      ],
      "metadata": {
        "id": "fcqI2wZAgPSp"
      }
    },
    {
      "cell_type": "code",
      "execution_count": null,
      "metadata": {
        "id": "cImD30YGvJTD",
        "colab": {
          "base_uri": "https://localhost:8080/"
        },
        "outputId": "4aaa8ddb-edc8-4eaa-aadc-f1dc76e52daa"
      },
      "outputs": [
        {
          "output_type": "stream",
          "name": "stdout",
          "text": [
            "Epoch 1/10\n",
            "\u001b[1m5277/5277\u001b[0m \u001b[32m━━━━━━━━━━━━━━━━━━━━\u001b[0m\u001b[37m\u001b[0m \u001b[1m47s\u001b[0m 8ms/step - accuracy: 0.9396 - loss: 0.2386 - val_accuracy: 0.9871 - val_loss: 0.0428\n",
            "Epoch 2/10\n",
            "\u001b[1m5277/5277\u001b[0m \u001b[32m━━━━━━━━━━━━━━━━━━━━\u001b[0m\u001b[37m\u001b[0m \u001b[1m44s\u001b[0m 8ms/step - accuracy: 0.9868 - loss: 0.0443 - val_accuracy: 0.9877 - val_loss: 0.0407\n",
            "Epoch 3/10\n",
            "\u001b[1m5277/5277\u001b[0m \u001b[32m━━━━━━━━━━━━━━━━━━━━\u001b[0m\u001b[37m\u001b[0m \u001b[1m44s\u001b[0m 8ms/step - accuracy: 0.9872 - loss: 0.0425 - val_accuracy: 0.9878 - val_loss: 0.0400\n",
            "Epoch 4/10\n",
            "\u001b[1m5277/5277\u001b[0m \u001b[32m━━━━━━━━━━━━━━━━━━━━\u001b[0m\u001b[37m\u001b[0m \u001b[1m44s\u001b[0m 8ms/step - accuracy: 0.9874 - loss: 0.0417 - val_accuracy: 0.9880 - val_loss: 0.0396\n",
            "Epoch 5/10\n",
            "\u001b[1m5277/5277\u001b[0m \u001b[32m━━━━━━━━━━━━━━━━━━━━\u001b[0m\u001b[37m\u001b[0m \u001b[1m44s\u001b[0m 8ms/step - accuracy: 0.9876 - loss: 0.0413 - val_accuracy: 0.9881 - val_loss: 0.0392\n",
            "Epoch 6/10\n",
            "\u001b[1m5277/5277\u001b[0m \u001b[32m━━━━━━━━━━━━━━━━━━━━\u001b[0m\u001b[37m\u001b[0m \u001b[1m44s\u001b[0m 8ms/step - accuracy: 0.9877 - loss: 0.0410 - val_accuracy: 0.9882 - val_loss: 0.0389\n",
            "Epoch 7/10\n",
            "\u001b[1m5277/5277\u001b[0m \u001b[32m━━━━━━━━━━━━━━━━━━━━\u001b[0m\u001b[37m\u001b[0m \u001b[1m44s\u001b[0m 8ms/step - accuracy: 0.9877 - loss: 0.0408 - val_accuracy: 0.9882 - val_loss: 0.0389\n",
            "Epoch 8/10\n",
            "\u001b[1m5277/5277\u001b[0m \u001b[32m━━━━━━━━━━━━━━━━━━━━\u001b[0m\u001b[37m\u001b[0m \u001b[1m41s\u001b[0m 8ms/step - accuracy: 0.9155 - loss: nan - val_accuracy: 0.1811 - val_loss: nan\n",
            "Epoch 9/10\n",
            "\u001b[1m5277/5277\u001b[0m \u001b[32m━━━━━━━━━━━━━━━━━━━━\u001b[0m\u001b[37m\u001b[0m \u001b[1m36s\u001b[0m 7ms/step - accuracy: 0.1810 - loss: nan - val_accuracy: 0.1811 - val_loss: nan\n",
            "Epoch 10/10\n",
            "\u001b[1m5277/5277\u001b[0m \u001b[32m━━━━━━━━━━━━━━━━━━━━\u001b[0m\u001b[37m\u001b[0m \u001b[1m36s\u001b[0m 7ms/step - accuracy: 0.1810 - loss: nan - val_accuracy: 0.1811 - val_loss: nan\n"
          ]
        }
      ],
      "source": [
        "from tensorflow.keras import mixed_precision\n",
        "\n",
        "\n",
        "mixed_precision.set_global_policy('mixed_float16')\n",
        "\n",
        "\n",
        "BATCH_SIZE = 256\n",
        "\n",
        "\n",
        "train_ds = tf.data.Dataset.from_tensor_slices((X_train, y_train)) \\\n",
        "    .shuffle(5000) \\\n",
        "    .batch(BATCH_SIZE, drop_remainder=True) \\\n",
        "    .prefetch(tf.data.AUTOTUNE)\n",
        "\n",
        "val_ds = tf.data.Dataset.from_tensor_slices((X_val, y_val)) \\\n",
        "    .batch(BATCH_SIZE, drop_remainder=True) \\\n",
        "    .prefetch(tf.data.AUTOTUNE)\n",
        "\n",
        "\n",
        "model = build_bidirectional_gru_model(len(vocab))\n",
        "\n",
        "\n",
        "optimizer = mixed_precision.LossScaleOptimizer(\n",
        "    tf.keras.optimizers.Adam(learning_rate=0.002)\n",
        ")\n",
        "\n",
        "model.compile(\n",
        "    optimizer=optimizer,\n",
        "    loss=tf.keras.losses.SparseCategoricalCrossentropy(from_logits=True),\n",
        "    metrics=['accuracy']\n",
        ")\n",
        "\n",
        "# Train the model\n",
        "history = model.fit(train_ds, validation_data=val_ds, epochs=10)\n"
      ]
    },
    {
      "cell_type": "code",
      "execution_count": null,
      "metadata": {
        "id": "d_5zWyptvOmt",
        "colab": {
          "base_uri": "https://localhost:8080/",
          "height": 487
        },
        "outputId": "5adde2dd-188a-43b0-e8ed-809ecb8c4c9d"
      },
      "outputs": [
        {
          "output_type": "display_data",
          "data": {
            "text/plain": [
              "<Figure size 640x480 with 1 Axes>"
            ],
            "image/png": "[encoded data removed]"
          },
          "metadata": {}
        }
      ],
      "source": [
        "plt.plot(history.history['val_loss'], label='Validation Loss')\n",
        "plt.plot(history.history['val_accuracy'], label='Validation Accuracy')\n",
        "plt.title(\"Model Evaluation\")\n",
        "plt.xlabel(\"Epoch\")\n",
        "plt.ylabel(\"Metric\")\n",
        "plt.legend()\n",
        "plt.grid(True)\n",
        "plt.tight_layout()\n",
        "plt.show()"
      ]
    },
    {
      "cell_type": "markdown",
      "source": [],
      "metadata": {
        "id": "J1JM1_-fgzqN"
      }
    },
    {
      "cell_type": "markdown",
      "source": [
        "# Experiment 9\n",
        "## Model used : Model 2\n",
        "## Batch Size = 256\n",
        "## Epochs = 10\n",
        "## Learning Rate = 0.01\n",
        "\n",
        "This Experiment showed small losses and high accuracy.\n",
        "\n",
        "\n"
      ],
      "metadata": {
        "id": "eiQ8Hc2Xg0W4"
      }
    },
    {
      "cell_type": "code",
      "execution_count": null,
      "metadata": {
        "id": "6ZN-l7BtvQzN",
        "colab": {
          "base_uri": "https://localhost:8080/"
        },
        "outputId": "8711a2c0-1da7-4bd7-b127-20e55e3d3cfe"
      },
      "outputs": [
        {
          "output_type": "stream",
          "name": "stdout",
          "text": [
            "Epoch 1/10\n",
            "\u001b[1m5277/5277\u001b[0m \u001b[32m━━━━━━━━━━━━━━━━━━━━\u001b[0m\u001b[37m\u001b[0m \u001b[1m46s\u001b[0m 8ms/step - accuracy: 0.9417 - loss: 0.2348 - val_accuracy: 0.9871 - val_loss: 0.0429\n",
            "Epoch 2/10\n",
            "\u001b[1m5277/5277\u001b[0m \u001b[32m━━━━━━━━━━━━━━━━━━━━\u001b[0m\u001b[37m\u001b[0m \u001b[1m43s\u001b[0m 8ms/step - accuracy: 0.9868 - loss: 0.0444 - val_accuracy: 0.9877 - val_loss: 0.0408\n",
            "Epoch 3/10\n",
            "\u001b[1m5277/5277\u001b[0m \u001b[32m━━━━━━━━━━━━━━━━━━━━\u001b[0m\u001b[37m\u001b[0m \u001b[1m43s\u001b[0m 8ms/step - accuracy: 0.9872 - loss: 0.0426 - val_accuracy: 0.9879 - val_loss: 0.0401\n",
            "Epoch 4/10\n",
            "\u001b[1m5277/5277\u001b[0m \u001b[32m━━━━━━━━━━━━━━━━━━━━\u001b[0m\u001b[37m\u001b[0m \u001b[1m43s\u001b[0m 8ms/step - accuracy: 0.9875 - loss: 0.0418 - val_accuracy: 0.9880 - val_loss: 0.0396\n",
            "Epoch 5/10\n",
            "\u001b[1m5277/5277\u001b[0m \u001b[32m━━━━━━━━━━━━━━━━━━━━\u001b[0m\u001b[37m\u001b[0m \u001b[1m43s\u001b[0m 8ms/step - accuracy: 0.9876 - loss: 0.0413 - val_accuracy: 0.9881 - val_loss: 0.0393\n",
            "Epoch 6/10\n",
            "\u001b[1m5277/5277\u001b[0m \u001b[32m━━━━━━━━━━━━━━━━━━━━\u001b[0m\u001b[37m\u001b[0m \u001b[1m43s\u001b[0m 8ms/step - accuracy: 0.9876 - loss: 0.0410 - val_accuracy: 0.9881 - val_loss: 0.0392\n",
            "Epoch 7/10\n",
            "\u001b[1m5277/5277\u001b[0m \u001b[32m━━━━━━━━━━━━━━━━━━━━\u001b[0m\u001b[37m\u001b[0m \u001b[1m43s\u001b[0m 8ms/step - accuracy: 0.9877 - loss: 0.0408 - val_accuracy: 0.9882 - val_loss: 0.0390\n",
            "Epoch 8/10\n",
            "\u001b[1m5277/5277\u001b[0m \u001b[32m━━━━━━━━━━━━━━━━━━━━\u001b[0m\u001b[37m\u001b[0m \u001b[1m43s\u001b[0m 8ms/step - accuracy: 0.9877 - loss: 0.0407 - val_accuracy: 0.9881 - val_loss: 0.0390\n",
            "Epoch 9/10\n",
            "\u001b[1m5277/5277\u001b[0m \u001b[32m━━━━━━━━━━━━━━━━━━━━\u001b[0m\u001b[37m\u001b[0m \u001b[1m43s\u001b[0m 8ms/step - accuracy: 0.9878 - loss: 0.0405 - val_accuracy: 0.9882 - val_loss: 0.0387\n",
            "Epoch 10/10\n",
            "\u001b[1m5277/5277\u001b[0m \u001b[32m━━━━━━━━━━━━━━━━━━━━\u001b[0m\u001b[37m\u001b[0m \u001b[1m43s\u001b[0m 8ms/step - accuracy: 0.9878 - loss: 0.0404 - val_accuracy: 0.9883 - val_loss: 0.0387\n"
          ]
        }
      ],
      "source": [
        "from tensorflow.keras import mixed_precision\n",
        "\n",
        "\n",
        "mixed_precision.set_global_policy('mixed_float16')\n",
        "\n",
        "\n",
        "BATCH_SIZE = 256\n",
        "\n",
        "\n",
        "train_ds = tf.data.Dataset.from_tensor_slices((X_train, y_train)) \\\n",
        "    .shuffle(5000) \\\n",
        "    .batch(BATCH_SIZE, drop_remainder=True) \\\n",
        "    .prefetch(tf.data.AUTOTUNE)\n",
        "\n",
        "val_ds = tf.data.Dataset.from_tensor_slices((X_val, y_val)) \\\n",
        "    .batch(BATCH_SIZE, drop_remainder=True) \\\n",
        "    .prefetch(tf.data.AUTOTUNE)\n",
        "\n",
        "\n",
        "model = build_bidirectional_gru_model(len(vocab))\n",
        "\n",
        "\n",
        "optimizer = mixed_precision.LossScaleOptimizer(\n",
        "    tf.keras.optimizers.Adam(learning_rate=0.01)\n",
        ")\n",
        "\n",
        "\n",
        "model.compile(\n",
        "    optimizer=optimizer,\n",
        "    loss=tf.keras.losses.SparseCategoricalCrossentropy(from_logits=True),\n",
        "    metrics=['accuracy']\n",
        ")\n",
        "\n",
        "\n",
        "history = model.fit(train_ds, validation_data=val_ds, epochs=10)\n"
      ]
    },
    {
      "cell_type": "code",
      "execution_count": null,
      "metadata": {
        "id": "SmDyNutXvUy4",
        "colab": {
          "base_uri": "https://localhost:8080/",
          "height": 487
        },
        "outputId": "9a6c257a-4876-4b5f-d642-54b170f20c79"
      },
      "outputs": [
        {
          "output_type": "display_data",
          "data": {
            "text/plain": [
              "<Figure size 640x480 with 1 Axes>"
            ],
            "image/png": "[encoded data removed]"
          },
          "metadata": {}
        }
      ],
      "source": [
        "plt.plot(history.history['val_loss'], label='Validation Loss')\n",
        "plt.plot(history.history['val_accuracy'], label='Validation Accuracy')\n",
        "plt.title(\"Model Evaluation\")\n",
        "plt.xlabel(\"Epoch\")\n",
        "plt.ylabel(\"Metric\")\n",
        "plt.legend()\n",
        "plt.grid(True)\n",
        "plt.tight_layout()\n",
        "plt.show()"
      ]
    },
    {
      "cell_type": "markdown",
      "source": [
        "##Model 3\n",
        "\n",
        "- **Embedding Layer**: Converts token indices into dense vectors of size 64.\n",
        "- **Bidirectional LSTM (1st layer)**: 128 units, processes sequences both forwards and backwards.\n",
        "- **Dropout**: 30% rate applied after the bidirectional LSTM.\n",
        "- **Unidirectional LSTM (2nd layer)**: 128 units, processes sequences in one direction.\n",
        "- **Dropout**: 30% rate applied after the unidirectional LSTM.\n",
        "- **Dense Output Layer**: Produces a probability distribution over the vocabulary for each timestep, with output size equal to `vocab_size`.\n"
      ],
      "metadata": {
        "id": "-yxzdMQThSZc"
      }
    },
    {
      "cell_type": "code",
      "execution_count": null,
      "metadata": {
        "id": "uY7oQ8yHvZHC"
      },
      "outputs": [],
      "source": [
        "def build_accurate_fast_model(vocab_size, embedding_dim=64, rnn_units=128):\n",
        "    model = tf.keras.Sequential([\n",
        "        tf.keras.layers.Embedding(input_dim=vocab_size, output_dim=embedding_dim, input_shape=(None,)),\n",
        "\n",
        "        # 1st Bidirectional LSTM Layer\n",
        "        tf.keras.layers.Bidirectional(tf.keras.layers.LSTM(rnn_units, return_sequences=True)),\n",
        "        tf.keras.layers.Dropout(0.3),\n",
        "\n",
        "        # 2nd Unidirectional LSTM Layer\n",
        "        tf.keras.layers.LSTM(rnn_units, return_sequences=True),\n",
        "        tf.keras.layers.Dropout(0.3),\n",
        "\n",
        "\n",
        "        tf.keras.layers.Dense(vocab_size, dtype='float32')  # This is critical\n",
        "    ])\n",
        "    return model\n"
      ]
    },
    {
      "cell_type": "markdown",
      "source": [],
      "metadata": {
        "id": "DSi9fbOJhgZs"
      }
    },
    {
      "cell_type": "markdown",
      "source": [
        "# Experiment 10\n",
        "## Model used : Model 3\n",
        "## Batch Size = 128\n",
        "## Epochs = 10\n",
        "## Learning Rate = 0.002\n",
        "\n",
        "This Experiment showed small losses and high accuracy.\n",
        "\n",
        "\n"
      ],
      "metadata": {
        "id": "ai79sH01hgyy"
      }
    },
    {
      "cell_type": "code",
      "execution_count": null,
      "metadata": {
        "id": "nmyU-dbKwGEn",
        "colab": {
          "base_uri": "https://localhost:8080/"
        },
        "outputId": "473c3d46-9b2b-43a7-b136-2ea57852f8a2"
      },
      "outputs": [
        {
          "output_type": "stream",
          "name": "stdout",
          "text": [
            "Epoch 1/10\n",
            "\u001b[1m5277/5277\u001b[0m \u001b[32m━━━━━━━━━━━━━━━━━━━━\u001b[0m\u001b[37m\u001b[0m \u001b[1m65s\u001b[0m 12ms/step - accuracy: 0.9264 - loss: 0.2777 - val_accuracy: 0.9879 - val_loss: 0.0395\n",
            "Epoch 2/10\n",
            "\u001b[1m5277/5277\u001b[0m \u001b[32m━━━━━━━━━━━━━━━━━━━━\u001b[0m\u001b[37m\u001b[0m \u001b[1m62s\u001b[0m 12ms/step - accuracy: 0.9877 - loss: 0.0409 - val_accuracy: 0.9887 - val_loss: 0.0365\n",
            "Epoch 3/10\n",
            "\u001b[1m5277/5277\u001b[0m \u001b[32m━━━━━━━━━━━━━━━━━━━━\u001b[0m\u001b[37m\u001b[0m \u001b[1m62s\u001b[0m 12ms/step - accuracy: 0.9883 - loss: 0.0384 - val_accuracy: 0.9890 - val_loss: 0.0353\n",
            "Epoch 4/10\n",
            "\u001b[1m5277/5277\u001b[0m \u001b[32m━━━━━━━━━━━━━━━━━━━━\u001b[0m\u001b[37m\u001b[0m \u001b[1m62s\u001b[0m 12ms/step - accuracy: 0.9886 - loss: 0.0374 - val_accuracy: 0.9891 - val_loss: 0.0347\n",
            "Epoch 5/10\n",
            "\u001b[1m5277/5277\u001b[0m \u001b[32m━━━━━━━━━━━━━━━━━━━━\u001b[0m\u001b[37m\u001b[0m \u001b[1m62s\u001b[0m 12ms/step - accuracy: 0.9887 - loss: 0.0368 - val_accuracy: 0.9892 - val_loss: 0.0343\n",
            "Epoch 6/10\n",
            "\u001b[1m5277/5277\u001b[0m \u001b[32m━━━━━━━━━━━━━━━━━━━━\u001b[0m\u001b[37m\u001b[0m \u001b[1m62s\u001b[0m 12ms/step - accuracy: 0.9888 - loss: 0.0363 - val_accuracy: 0.9893 - val_loss: 0.0340\n",
            "Epoch 7/10\n",
            "\u001b[1m5277/5277\u001b[0m \u001b[32m━━━━━━━━━━━━━━━━━━━━\u001b[0m\u001b[37m\u001b[0m \u001b[1m62s\u001b[0m 12ms/step - accuracy: 0.9889 - loss: 0.0360 - val_accuracy: 0.9893 - val_loss: 0.0339\n",
            "Epoch 8/10\n",
            "\u001b[1m5277/5277\u001b[0m \u001b[32m━━━━━━━━━━━━━━━━━━━━\u001b[0m\u001b[37m\u001b[0m \u001b[1m62s\u001b[0m 12ms/step - accuracy: 0.9890 - loss: 0.0358 - val_accuracy: 0.9894 - val_loss: 0.0336\n",
            "Epoch 9/10\n",
            "\u001b[1m5277/5277\u001b[0m \u001b[32m━━━━━━━━━━━━━━━━━━━━\u001b[0m\u001b[37m\u001b[0m \u001b[1m62s\u001b[0m 12ms/step - accuracy: 0.9890 - loss: 0.0356 - val_accuracy: 0.9894 - val_loss: 0.0335\n",
            "Epoch 10/10\n",
            "\u001b[1m5277/5277\u001b[0m \u001b[32m━━━━━━━━━━━━━━━━━━━━\u001b[0m\u001b[37m\u001b[0m \u001b[1m62s\u001b[0m 12ms/step - accuracy: 0.9890 - loss: 0.0355 - val_accuracy: 0.9895 - val_loss: 0.0335\n"
          ]
        }
      ],
      "source": [
        "from tensorflow.keras import mixed_precision\n",
        "\n",
        "\n",
        "mixed_precision.set_global_policy('mixed_float16')\n",
        "\n",
        "\n",
        "BATCH_SIZE = 128\n",
        "\n",
        "\n",
        "train_ds = tf.data.Dataset.from_tensor_slices((X_train, y_train)) \\\n",
        "    .shuffle(5000) \\\n",
        "    .batch(BATCH_SIZE, drop_remainder=True) \\\n",
        "    .prefetch(tf.data.AUTOTUNE)\n",
        "\n",
        "val_ds = tf.data.Dataset.from_tensor_slices((X_val, y_val)) \\\n",
        "    .batch(BATCH_SIZE, drop_remainder=True) \\\n",
        "    .prefetch(tf.data.AUTOTUNE)\n",
        "\n",
        "\n",
        "model = build_accurate_fast_model(len(vocab))\n",
        "\n",
        "\n",
        "optimizer = mixed_precision.LossScaleOptimizer(\n",
        "    tf.keras.optimizers.Adam(learning_rate=0.002)\n",
        ")\n",
        "\n",
        "\n",
        "model.compile(\n",
        "    optimizer=optimizer,\n",
        "    loss=tf.keras.losses.SparseCategoricalCrossentropy(from_logits=True),\n",
        "    metrics=['accuracy']\n",
        ")\n",
        "\n",
        "# Train\n",
        "history = model.fit(train_ds, validation_data=val_ds, epochs=10)\n"
      ]
    },
    {
      "cell_type": "code",
      "execution_count": null,
      "metadata": {
        "id": "6tCQcbwXwLSh",
        "colab": {
          "base_uri": "https://localhost:8080/",
          "height": 487
        },
        "outputId": "eb623af0-ce4f-40e9-d3ec-6b9807d8f3de"
      },
      "outputs": [
        {
          "output_type": "display_data",
          "data": {
            "text/plain": [
              "<Figure size 640x480 with 1 Axes>"
            ],
            "image/png": "[encoded data removed]"
          },
          "metadata": {}
        }
      ],
      "source": [
        "plt.plot(history.history['val_loss'], label='Validation Loss')\n",
        "plt.plot(history.history['val_accuracy'], label='Validation Accuracy')\n",
        "plt.title(\"Model Evaluation\")\n",
        "plt.xlabel(\"Epoch\")\n",
        "plt.ylabel(\"Metric\")\n",
        "plt.legend()\n",
        "plt.grid(True)\n",
        "plt.tight_layout()\n",
        "plt.show()"
      ]
    },
    {
      "cell_type": "code",
      "source": [],
      "metadata": {
        "id": "FFzpvieKhrDi"
      },
      "execution_count": null,
      "outputs": []
    },
    {
      "cell_type": "markdown",
      "source": [],
      "metadata": {
        "id": "yHk5-i6xhsIL"
      }
    },
    {
      "cell_type": "markdown",
      "source": [
        "# Experiment 11\n",
        "## Model used : Model 3\n",
        "## Batch Size = 128\n",
        "## Epochs = 10\n",
        "## Learning Rate = 0.01\n",
        "\n",
        "This Experiment showed small losses and high accuracy.\n",
        "\n",
        "\n"
      ],
      "metadata": {
        "id": "fegPKzxZhs1p"
      }
    },
    {
      "cell_type": "code",
      "execution_count": null,
      "metadata": {
        "id": "q5GC9D9DwV5h",
        "colab": {
          "base_uri": "https://localhost:8080/"
        },
        "outputId": "a2499e06-78db-4350-db41-c720f760e23d"
      },
      "outputs": [
        {
          "output_type": "stream",
          "name": "stdout",
          "text": [
            "Epoch 1/10\n",
            "\u001b[1m5277/5277\u001b[0m \u001b[32m━━━━━━━━━━━━━━━━━━━━\u001b[0m\u001b[37m\u001b[0m \u001b[1m66s\u001b[0m 12ms/step - accuracy: 0.9257 - loss: 0.2813 - val_accuracy: 0.9879 - val_loss: 0.0395\n",
            "Epoch 2/10\n",
            "\u001b[1m5277/5277\u001b[0m \u001b[32m━━━━━━━━━━━━━━━━━━━━\u001b[0m\u001b[37m\u001b[0m \u001b[1m62s\u001b[0m 12ms/step - accuracy: 0.9876 - loss: 0.0413 - val_accuracy: 0.9886 - val_loss: 0.0366\n",
            "Epoch 3/10\n",
            "\u001b[1m5277/5277\u001b[0m \u001b[32m━━━━━━━━━━━━━━━━━━━━\u001b[0m\u001b[37m\u001b[0m \u001b[1m62s\u001b[0m 12ms/step - accuracy: 0.9882 - loss: 0.0387 - val_accuracy: 0.9890 - val_loss: 0.0354\n",
            "Epoch 4/10\n",
            "\u001b[1m5277/5277\u001b[0m \u001b[32m━━━━━━━━━━━━━━━━━━━━\u001b[0m\u001b[37m\u001b[0m \u001b[1m62s\u001b[0m 12ms/step - accuracy: 0.9885 - loss: 0.0376 - val_accuracy: 0.9891 - val_loss: 0.0348\n",
            "Epoch 5/10\n",
            "\u001b[1m5277/5277\u001b[0m \u001b[32m━━━━━━━━━━━━━━━━━━━━\u001b[0m\u001b[37m\u001b[0m \u001b[1m62s\u001b[0m 12ms/step - accuracy: 0.9887 - loss: 0.0369 - val_accuracy: 0.9892 - val_loss: 0.0343\n",
            "Epoch 6/10\n",
            "\u001b[1m5277/5277\u001b[0m \u001b[32m━━━━━━━━━━━━━━━━━━━━\u001b[0m\u001b[37m\u001b[0m \u001b[1m62s\u001b[0m 12ms/step - accuracy: 0.9888 - loss: 0.0365 - val_accuracy: 0.9893 - val_loss: 0.0340\n",
            "Epoch 7/10\n",
            "\u001b[1m5277/5277\u001b[0m \u001b[32m━━━━━━━━━━━━━━━━━━━━\u001b[0m\u001b[37m\u001b[0m \u001b[1m62s\u001b[0m 12ms/step - accuracy: 0.9889 - loss: 0.0362 - val_accuracy: 0.9894 - val_loss: 0.0338\n",
            "Epoch 8/10\n",
            "\u001b[1m5277/5277\u001b[0m \u001b[32m━━━━━━━━━━━━━━━━━━━━\u001b[0m\u001b[37m\u001b[0m \u001b[1m62s\u001b[0m 12ms/step - accuracy: 0.9889 - loss: 0.0359 - val_accuracy: 0.9894 - val_loss: 0.0337\n",
            "Epoch 9/10\n",
            "\u001b[1m5277/5277\u001b[0m \u001b[32m━━━━━━━━━━━━━━━━━━━━\u001b[0m\u001b[37m\u001b[0m \u001b[1m62s\u001b[0m 12ms/step - accuracy: 0.9890 - loss: 0.0357 - val_accuracy: 0.9895 - val_loss: 0.0335\n",
            "Epoch 10/10\n",
            "\u001b[1m5277/5277\u001b[0m \u001b[32m━━━━━━━━━━━━━━━━━━━━\u001b[0m\u001b[37m\u001b[0m \u001b[1m63s\u001b[0m 12ms/step - accuracy: 0.9890 - loss: 0.0356 - val_accuracy: 0.9895 - val_loss: 0.0335\n"
          ]
        }
      ],
      "source": [
        "from tensorflow.keras import mixed_precision\n",
        "\n",
        "\n",
        "mixed_precision.set_global_policy('mixed_float16')\n",
        "\n",
        "\n",
        "BATCH_SIZE = 128\n",
        "\n",
        "\n",
        "train_ds = tf.data.Dataset.from_tensor_slices((X_train, y_train)) \\\n",
        "    .shuffle(5000) \\\n",
        "    .batch(BATCH_SIZE, drop_remainder=True) \\\n",
        "    .prefetch(tf.data.AUTOTUNE)\n",
        "\n",
        "val_ds = tf.data.Dataset.from_tensor_slices((X_val, y_val)) \\\n",
        "    .batch(BATCH_SIZE, drop_remainder=True) \\\n",
        "    .prefetch(tf.data.AUTOTUNE)\n",
        "\n",
        "\n",
        "model = build_accurate_fast_model(len(vocab))\n",
        "\n",
        "\n",
        "optimizer = mixed_precision.LossScaleOptimizer(\n",
        "    tf.keras.optimizers.Adam(learning_rate=0.01)\n",
        ")\n",
        "\n",
        "\n",
        "model.compile(\n",
        "    optimizer=optimizer,\n",
        "    loss=tf.keras.losses.SparseCategoricalCrossentropy(from_logits=True),\n",
        "    metrics=['accuracy']\n",
        ")\n",
        "\n",
        "# Train\n",
        "history = model.fit(train_ds, validation_data=val_ds, epochs=10)\n"
      ]
    },
    {
      "cell_type": "code",
      "execution_count": null,
      "metadata": {
        "id": "1_yZrCw0wavw",
        "colab": {
          "base_uri": "https://localhost:8080/",
          "height": 487
        },
        "outputId": "c8588ec3-3e0b-43ae-8478-e00aab7f58d9"
      },
      "outputs": [
        {
          "output_type": "display_data",
          "data": {
            "text/plain": [
              "<Figure size 640x480 with 1 Axes>"
            ],
            "image/png": "[encoded data removed]"
          },
          "metadata": {}
        }
      ],
      "source": [
        "plt.plot(history.history['val_loss'], label='Validation Loss')\n",
        "plt.plot(history.history['val_accuracy'], label='Validation Accuracy')\n",
        "plt.title(\"Model Evaluation\")\n",
        "plt.xlabel(\"Epoch\")\n",
        "plt.ylabel(\"Metric\")\n",
        "plt.legend()\n",
        "plt.grid(True)\n",
        "plt.tight_layout()\n",
        "plt.show()"
      ]
    },
    {
      "cell_type": "code",
      "source": [],
      "metadata": {
        "id": "5cTOo48Sh2eY"
      },
      "execution_count": null,
      "outputs": []
    },
    {
      "cell_type": "markdown",
      "source": [],
      "metadata": {
        "id": "oUuRuU9dh3cv"
      }
    },
    {
      "cell_type": "markdown",
      "source": [
        "# Experiment 12\n",
        "## Model used : Model 3\n",
        "## Batch Size = 64\n",
        "## Epochs = 10\n",
        "## Learning Rate = 0.002\n",
        "\n",
        "This Experiment showed small losses and high accuracy.For some epochs the losses are nan it means high learning rate or gradient exploding so this experiment is not optimal.\n",
        "\n",
        "\n"
      ],
      "metadata": {
        "id": "dKoHJB_ph3_-"
      }
    },
    {
      "cell_type": "code",
      "execution_count": null,
      "metadata": {
        "id": "C_z59-TEwdar",
        "colab": {
          "base_uri": "https://localhost:8080/"
        },
        "outputId": "ccd8d274-6bc5-4457-bf48-6e6718952ef8"
      },
      "outputs": [
        {
          "output_type": "stream",
          "name": "stdout",
          "text": [
            "Epoch 1/10\n",
            "\u001b[1m5277/5277\u001b[0m \u001b[32m━━━━━━━━━━━━━━━━━━━━\u001b[0m\u001b[37m\u001b[0m \u001b[1m68s\u001b[0m 12ms/step - accuracy: 0.9274 - loss: 0.2733 - val_accuracy: 0.9879 - val_loss: 0.0392\n",
            "Epoch 2/10\n",
            "\u001b[1m5277/5277\u001b[0m \u001b[32m━━━━━━━━━━━━━━━━━━━━\u001b[0m\u001b[37m\u001b[0m \u001b[1m63s\u001b[0m 12ms/step - accuracy: 0.9876 - loss: 0.0410 - val_accuracy: 0.9886 - val_loss: 0.0365\n",
            "Epoch 3/10\n",
            "\u001b[1m5277/5277\u001b[0m \u001b[32m━━━━━━━━━━━━━━━━━━━━\u001b[0m\u001b[37m\u001b[0m \u001b[1m63s\u001b[0m 12ms/step - accuracy: 0.9883 - loss: 0.0386 - val_accuracy: 0.9890 - val_loss: 0.0353\n",
            "Epoch 4/10\n",
            "\u001b[1m5277/5277\u001b[0m \u001b[32m━━━━━━━━━━━━━━━━━━━━\u001b[0m\u001b[37m\u001b[0m \u001b[1m64s\u001b[0m 12ms/step - accuracy: 0.9885 - loss: 0.0375 - val_accuracy: 0.9891 - val_loss: 0.0347\n",
            "Epoch 5/10\n",
            "\u001b[1m5277/5277\u001b[0m \u001b[32m━━━━━━━━━━━━━━━━━━━━\u001b[0m\u001b[37m\u001b[0m \u001b[1m64s\u001b[0m 12ms/step - accuracy: 0.9887 - loss: 0.0369 - val_accuracy: 0.9892 - val_loss: 0.0343\n",
            "Epoch 6/10\n",
            "\u001b[1m5277/5277\u001b[0m \u001b[32m━━━━━━━━━━━━━━━━━━━━\u001b[0m\u001b[37m\u001b[0m \u001b[1m64s\u001b[0m 12ms/step - accuracy: 0.9888 - loss: 0.0364 - val_accuracy: 0.9893 - val_loss: 0.0340\n",
            "Epoch 7/10\n",
            "\u001b[1m5277/5277\u001b[0m \u001b[32m━━━━━━━━━━━━━━━━━━━━\u001b[0m\u001b[37m\u001b[0m \u001b[1m64s\u001b[0m 12ms/step - accuracy: 0.9889 - loss: 0.0361 - val_accuracy: 0.9894 - val_loss: 0.0338\n",
            "Epoch 8/10\n",
            "\u001b[1m5277/5277\u001b[0m \u001b[32m━━━━━━━━━━━━━━━━━━━━\u001b[0m\u001b[37m\u001b[0m \u001b[1m55s\u001b[0m 10ms/step - accuracy: 0.6117 - loss: nan - val_accuracy: 0.2573 - val_loss: nan\n",
            "Epoch 9/10\n",
            "\u001b[1m5277/5277\u001b[0m \u001b[32m━━━━━━━━━━━━━━━━━━━━\u001b[0m\u001b[37m\u001b[0m \u001b[1m53s\u001b[0m 10ms/step - accuracy: 0.2572 - loss: nan - val_accuracy: 0.2573 - val_loss: nan\n",
            "Epoch 10/10\n",
            "\u001b[1m5277/5277\u001b[0m \u001b[32m━━━━━━━━━━━━━━━━━━━━\u001b[0m\u001b[37m\u001b[0m \u001b[1m54s\u001b[0m 10ms/step - accuracy: 0.2573 - loss: nan - val_accuracy: 0.2573 - val_loss: nan\n"
          ]
        }
      ],
      "source": [
        "from tensorflow.keras import mixed_precision\n",
        "\n",
        "\n",
        "mixed_precision.set_global_policy('mixed_float16')\n",
        "\n",
        "\n",
        "BATCH_SIZE = 64\n",
        "\n",
        "\n",
        "train_ds = tf.data.Dataset.from_tensor_slices((X_train, y_train)) \\\n",
        "    .shuffle(5000) \\\n",
        "    .batch(BATCH_SIZE, drop_remainder=True) \\\n",
        "    .prefetch(tf.data.AUTOTUNE)\n",
        "\n",
        "val_ds = tf.data.Dataset.from_tensor_slices((X_val, y_val)) \\\n",
        "    .batch(BATCH_SIZE, drop_remainder=True) \\\n",
        "    .prefetch(tf.data.AUTOTUNE)\n",
        "\n",
        "\n",
        "model = build_accurate_fast_model(len(vocab))\n",
        "\n",
        "\n",
        "optimizer = mixed_precision.LossScaleOptimizer(\n",
        "    tf.keras.optimizers.Adam(learning_rate=0.002)\n",
        ")\n",
        "\n",
        "\n",
        "model.compile(\n",
        "    optimizer=optimizer,\n",
        "    loss=tf.keras.losses.SparseCategoricalCrossentropy(from_logits=True),\n",
        "    metrics=['accuracy']\n",
        ")\n",
        "\n",
        "# Train\n",
        "history = model.fit(train_ds, validation_data=val_ds, epochs=10)\n"
      ]
    },
    {
      "cell_type": "code",
      "execution_count": null,
      "metadata": {
        "id": "xXtfVXPZwh6T",
        "colab": {
          "base_uri": "https://localhost:8080/",
          "height": 487
        },
        "outputId": "8fbf6732-3d01-48ff-ccf5-9b7cd08ba0a5"
      },
      "outputs": [
        {
          "output_type": "display_data",
          "data": {
            "text/plain": [
              "<Figure size 640x480 with 1 Axes>"
            ],
            "image/png": "[encoded data removed]"
          },
          "metadata": {}
        }
      ],
      "source": [
        "plt.plot(history.history['val_loss'], label='Validation Loss')\n",
        "plt.plot(history.history['val_accuracy'], label='Validation Accuracy')\n",
        "plt.title(\"Model Evaluation\")\n",
        "plt.xlabel(\"Epoch\")\n",
        "plt.ylabel(\"Metric\")\n",
        "plt.legend()\n",
        "plt.grid(True)\n",
        "plt.tight_layout()\n",
        "plt.show()"
      ]
    },
    {
      "cell_type": "code",
      "source": [],
      "metadata": {
        "id": "jEtC6dQsiRDp"
      },
      "execution_count": null,
      "outputs": []
    },
    {
      "cell_type": "markdown",
      "source": [],
      "metadata": {
        "id": "vqla4Em4iRxs"
      }
    },
    {
      "cell_type": "markdown",
      "source": [
        "# Experiment 13\n",
        "## Model used : Model 3\n",
        "## Batch Size = 64\n",
        "## Epochs = 10\n",
        "## Learning Rate = 0.01\n",
        "\n",
        "This Experiment showed small losses and high accuracy.For some epochs the losses are nan it means high learning rate or gradient exploding so this experiment is not optimal.\n",
        "\n",
        "\n"
      ],
      "metadata": {
        "id": "R9Sp-R2yiSZs"
      }
    },
    {
      "cell_type": "code",
      "execution_count": null,
      "metadata": {
        "id": "DAO-Z3N5wlus",
        "colab": {
          "base_uri": "https://localhost:8080/"
        },
        "outputId": "c178ee25-9086-4e11-9ea2-a89315498dcb"
      },
      "outputs": [
        {
          "output_type": "stream",
          "name": "stdout",
          "text": [
            "Epoch 1/10\n",
            "\u001b[1m5277/5277\u001b[0m \u001b[32m━━━━━━━━━━━━━━━━━━━━\u001b[0m\u001b[37m\u001b[0m \u001b[1m68s\u001b[0m 12ms/step - accuracy: 0.9274 - loss: 0.2744 - val_accuracy: 0.9879 - val_loss: 0.0394\n",
            "Epoch 2/10\n",
            "\u001b[1m5277/5277\u001b[0m \u001b[32m━━━━━━━━━━━━━━━━━━━━\u001b[0m\u001b[37m\u001b[0m \u001b[1m65s\u001b[0m 12ms/step - accuracy: 0.9877 - loss: 0.0410 - val_accuracy: 0.9888 - val_loss: 0.0362\n",
            "Epoch 3/10\n",
            "\u001b[1m5277/5277\u001b[0m \u001b[32m━━━━━━━━━━━━━━━━━━━━\u001b[0m\u001b[37m\u001b[0m \u001b[1m65s\u001b[0m 12ms/step - accuracy: 0.9883 - loss: 0.0385 - val_accuracy: 0.9891 - val_loss: 0.0351\n",
            "Epoch 4/10\n",
            "\u001b[1m5277/5277\u001b[0m \u001b[32m━━━━━━━━━━━━━━━━━━━━\u001b[0m\u001b[37m\u001b[0m \u001b[1m65s\u001b[0m 12ms/step - accuracy: 0.9886 - loss: 0.0374 - val_accuracy: 0.9891 - val_loss: 0.0346\n",
            "Epoch 5/10\n",
            "\u001b[1m5277/5277\u001b[0m \u001b[32m━━━━━━━━━━━━━━━━━━━━\u001b[0m\u001b[37m\u001b[0m \u001b[1m65s\u001b[0m 12ms/step - accuracy: 0.9887 - loss: 0.0367 - val_accuracy: 0.9893 - val_loss: 0.0341\n",
            "Epoch 6/10\n",
            "\u001b[1m5277/5277\u001b[0m \u001b[32m━━━━━━━━━━━━━━━━━━━━\u001b[0m\u001b[37m\u001b[0m \u001b[1m65s\u001b[0m 12ms/step - accuracy: 0.9888 - loss: 0.0363 - val_accuracy: 0.9894 - val_loss: 0.0339\n",
            "Epoch 7/10\n",
            "\u001b[1m5277/5277\u001b[0m \u001b[32m━━━━━━━━━━━━━━━━━━━━\u001b[0m\u001b[37m\u001b[0m \u001b[1m65s\u001b[0m 12ms/step - accuracy: 0.9889 - loss: 0.0360 - val_accuracy: 0.9894 - val_loss: 0.0337\n",
            "Epoch 8/10\n",
            "\u001b[1m5277/5277\u001b[0m \u001b[32m━━━━━━━━━━━━━━━━━━━━\u001b[0m\u001b[37m\u001b[0m \u001b[1m61s\u001b[0m 12ms/step - accuracy: 0.9678 - loss: nan - val_accuracy: 0.5962 - val_loss: nan\n",
            "Epoch 9/10\n",
            "\u001b[1m5277/5277\u001b[0m \u001b[32m━━━━━━━━━━━━━━━━━━━━\u001b[0m\u001b[37m\u001b[0m \u001b[1m54s\u001b[0m 10ms/step - accuracy: 0.5961 - loss: nan - val_accuracy: 0.5962 - val_loss: nan\n",
            "Epoch 10/10\n",
            "\u001b[1m5277/5277\u001b[0m \u001b[32m━━━━━━━━━━━━━━━━━━━━\u001b[0m\u001b[37m\u001b[0m \u001b[1m54s\u001b[0m 10ms/step - accuracy: 0.5961 - loss: nan - val_accuracy: 0.5962 - val_loss: nan\n"
          ]
        }
      ],
      "source": [
        "from tensorflow.keras import mixed_precision\n",
        "\n",
        "\n",
        "mixed_precision.set_global_policy('mixed_float16')\n",
        "\n",
        "\n",
        "BATCH_SIZE = 64\n",
        "\n",
        "\n",
        "train_ds = tf.data.Dataset.from_tensor_slices((X_train, y_train)) \\\n",
        "    .shuffle(5000) \\\n",
        "    .batch(BATCH_SIZE, drop_remainder=True) \\\n",
        "    .prefetch(tf.data.AUTOTUNE)\n",
        "\n",
        "val_ds = tf.data.Dataset.from_tensor_slices((X_val, y_val)) \\\n",
        "    .batch(BATCH_SIZE, drop_remainder=True) \\\n",
        "    .prefetch(tf.data.AUTOTUNE)\n",
        "\n",
        "\n",
        "model = build_accurate_fast_model(len(vocab))\n",
        "\n",
        "optimizer = mixed_precision.LossScaleOptimizer(\n",
        "    tf.keras.optimizers.Adam(learning_rate=0.01)\n",
        ")\n",
        "\n",
        "\n",
        "model.compile(\n",
        "    optimizer=optimizer,\n",
        "    loss=tf.keras.losses.SparseCategoricalCrossentropy(from_logits=True),\n",
        "    metrics=['accuracy']\n",
        ")\n",
        "\n",
        "\n",
        "history = model.fit(train_ds, validation_data=val_ds, epochs=10)\n"
      ]
    },
    {
      "cell_type": "code",
      "execution_count": null,
      "metadata": {
        "id": "pF88fc9Ewo6y",
        "colab": {
          "base_uri": "https://localhost:8080/",
          "height": 487
        },
        "outputId": "97817b99-c79b-455f-ef34-56fa0664832b"
      },
      "outputs": [
        {
          "output_type": "display_data",
          "data": {
            "text/plain": [
              "<Figure size 640x480 with 1 Axes>"
            ],
            "image/png": "[encoded data removed]"
          },
          "metadata": {}
        }
      ],
      "source": [
        "plt.plot(history.history['val_loss'], label='Validation Loss')\n",
        "plt.plot(history.history['val_accuracy'], label='Validation Accuracy')\n",
        "plt.title(\"Model Evaluation\")\n",
        "plt.xlabel(\"Epoch\")\n",
        "plt.ylabel(\"Metric\")\n",
        "plt.legend()\n",
        "plt.grid(True)\n",
        "plt.tight_layout()\n",
        "plt.show()"
      ]
    },
    {
      "cell_type": "markdown",
      "source": [
        "# Best Model: Architecture and Hyperparameters\n",
        "\n",
        "## Hyperparameters:\n",
        "- **Epochs**: 10\n",
        "  - The model was trained for **10 epochs**, providing enough time for the model to learn the patterns in the data while avoiding overfitting.\n",
        "  \n",
        "- **Learning Rate (lr)**: 0.002\n",
        "  - A learning rate of **0.002** was used, providing a balance between fast convergence and stable training. This learning rate was chosen to ensure the model does not diverge while updating the weights efficiently.\n",
        "  \n",
        "- **Batch Size**: 128\n",
        "  - The **batch size of 128** was used for training, allowing the model to process a reasonable number of examples per training step. Larger batch sizes help stabilize training and reduce variance in weight updates.\n",
        "\n",
        "---\n",
        "\n",
        "## Model Architecture:\n",
        "\n",
        "The model consists of several layers aimed at improving performance and efficiency. Here's a breakdown:\n",
        "\n",
        "1. **Embedding Layer**:\n",
        "   - The **Embedding layer** maps the input tokens (characters) to dense vectors of size **64**. This reduces the dimensionality of the input and allows the model to capture semantic relationships between characters.\n",
        "   - `input_dim=vocab_size` defines the size of the vocabulary, and `output_dim=embedding_dim` specifies the dimensionality of the dense vector for each token.\n",
        "\n",
        "2. **Bidirectional LSTM Layer**:\n",
        "   - A **Bidirectional LSTM layer** is used to capture patterns in both forward and backward directions of the sequence. This layer processes the input sequence from both ends, which helps the model understand context better, especially for sequential tasks like text generation.\n",
        "   - `rnn_units=128` defines the number of units in the LSTM cell, while `return_sequences=True` ensures that the LSTM outputs the full sequence of hidden states.\n",
        "\n",
        "3. **Dropout Layers**:\n",
        "   - **Dropout (0.3)** is applied after both LSTM layers to prevent overfitting. During training, 30% of the neurons are randomly dropped, which helps the model generalize better and avoid memorizing the training data.\n",
        "\n",
        "4. **Unidirectional LSTM Layer**:\n",
        "   - A second **Unidirectional LSTM layer** is added to further capture sequential dependencies. It is followed by another **Dropout layer** to prevent overfitting and stabilize training.\n",
        "   \n",
        "5. **Dense Output Layer**:\n",
        "   - The final **Dense layer** with `vocab_size` units outputs the probabilities for each possible next character in the sequence.\n",
        "   - **dtype='float32'** ensures that the output is compatible with mixed precision, improving performance during training.\n",
        "\n",
        "---\n",
        "\n",
        "## Model Summary:\n",
        "- The **Bidirectional LSTM layer** helps the model capture contextual dependencies from both directions, improving its understanding of the sequence.\n",
        "- The **Unidirectional LSTM layer** further refines the model's predictions by processing the sequence.\n",
        "- **Dropout** layers are added to prevent overfitting and help the model generalize better.\n",
        "- The **Dense output layer** produces the model's predictions for the next character in the sequence.\n",
        "\n",
        "This model configuration strikes a balance between speed and accuracy, using mixed precision to speed up training while ensuring stable and effective learning.\n"
      ],
      "metadata": {
        "id": "WVXasJw_MnIL"
      }
    },
    {
      "cell_type": "code",
      "source": [
        "# The below Model is the Best model we selected from our experimentation above."
      ],
      "metadata": {
        "id": "r1gUrRQYMs8L"
      },
      "execution_count": null,
      "outputs": []
    },
    {
      "cell_type": "code",
      "execution_count": null,
      "metadata": {
        "id": "my0NCaAEM7h_"
      },
      "outputs": [],
      "source": [
        "def build_accurate_fast_model(vocab_size, embedding_dim=64, rnn_units=128):\n",
        "    model = tf.keras.Sequential([\n",
        "        tf.keras.layers.Embedding(input_dim=vocab_size, output_dim=embedding_dim, input_shape=(None,)),\n",
        "\n",
        "\n",
        "        tf.keras.layers.Bidirectional(tf.keras.layers.LSTM(rnn_units, return_sequences=True)),\n",
        "        tf.keras.layers.Dropout(0.3),\n",
        "\n",
        "\n",
        "        tf.keras.layers.LSTM(rnn_units, return_sequences=True),\n",
        "        tf.keras.layers.Dropout(0.3),\n",
        "\n",
        "\n",
        "        tf.keras.layers.Dense(vocab_size, dtype='float32')\n",
        "    ])\n",
        "    return model\n"
      ]
    },
    {
      "cell_type": "code",
      "execution_count": null,
      "metadata": {
        "colab": {
          "base_uri": "https://localhost:8080/"
        },
        "outputId": "64ba5005-a19c-4d1b-e491-eeec1ef86e59",
        "id": "KxPJiIb-NPZh"
      },
      "outputs": [
        {
          "output_type": "stream",
          "name": "stdout",
          "text": [
            "Epoch 1/10\n",
            "\u001b[1m5277/5277\u001b[0m \u001b[32m━━━━━━━━━━━━━━━━━━━━\u001b[0m\u001b[37m\u001b[0m \u001b[1m46s\u001b[0m 8ms/step - accuracy: 0.9385 - loss: 0.2431 - val_accuracy: 0.9871 - val_loss: 0.0430\n",
            "Epoch 2/10\n",
            "\u001b[1m5277/5277\u001b[0m \u001b[32m━━━━━━━━━━━━━━━━━━━━\u001b[0m\u001b[37m\u001b[0m \u001b[1m43s\u001b[0m 8ms/step - accuracy: 0.9868 - loss: 0.0444 - val_accuracy: 0.9877 - val_loss: 0.0408\n",
            "Epoch 3/10\n",
            "\u001b[1m5277/5277\u001b[0m \u001b[32m━━━━━━━━━━━━━━━━━━━━\u001b[0m\u001b[37m\u001b[0m \u001b[1m44s\u001b[0m 8ms/step - accuracy: 0.9872 - loss: 0.0425 - val_accuracy: 0.9879 - val_loss: 0.0400\n",
            "Epoch 4/10\n",
            "\u001b[1m5277/5277\u001b[0m \u001b[32m━━━━━━━━━━━━━━━━━━━━\u001b[0m\u001b[37m\u001b[0m \u001b[1m44s\u001b[0m 8ms/step - accuracy: 0.9875 - loss: 0.0418 - val_accuracy: 0.9880 - val_loss: 0.0396\n",
            "Epoch 5/10\n",
            "\u001b[1m5277/5277\u001b[0m \u001b[32m━━━━━━━━━━━━━━━━━━━━\u001b[0m\u001b[37m\u001b[0m \u001b[1m44s\u001b[0m 8ms/step - accuracy: 0.9876 - loss: 0.0414 - val_accuracy: 0.9881 - val_loss: 0.0392\n",
            "Epoch 6/10\n",
            "\u001b[1m5277/5277\u001b[0m \u001b[32m━━━━━━━━━━━━━━━━━━━━\u001b[0m\u001b[37m\u001b[0m \u001b[1m44s\u001b[0m 8ms/step - accuracy: 0.9876 - loss: 0.0410 - val_accuracy: 0.9882 - val_loss: 0.0390\n",
            "Epoch 7/10\n",
            "\u001b[1m5277/5277\u001b[0m \u001b[32m━━━━━━━━━━━━━━━━━━━━\u001b[0m\u001b[37m\u001b[0m \u001b[1m43s\u001b[0m 8ms/step - accuracy: 0.9877 - loss: 0.0409 - val_accuracy: 0.9882 - val_loss: 0.0389\n",
            "Epoch 8/10\n",
            "\u001b[1m5277/5277\u001b[0m \u001b[32m━━━━━━━━━━━━━━━━━━━━\u001b[0m\u001b[37m\u001b[0m \u001b[1m43s\u001b[0m 8ms/step - accuracy: 0.9878 - loss: 0.0407 - val_accuracy: 0.9882 - val_loss: 0.0389\n",
            "Epoch 9/10\n",
            "\u001b[1m5277/5277\u001b[0m \u001b[32m━━━━━━━━━━━━━━━━━━━━\u001b[0m\u001b[37m\u001b[0m \u001b[1m43s\u001b[0m 8ms/step - accuracy: 0.9878 - loss: 0.0405 - val_accuracy: 0.9882 - val_loss: 0.0389\n",
            "Epoch 10/10\n",
            "\u001b[1m5277/5277\u001b[0m \u001b[32m━━━━━━━━━━━━━━━━━━━━\u001b[0m\u001b[37m\u001b[0m \u001b[1m43s\u001b[0m 8ms/step - accuracy: 0.9878 - loss: 0.0404 - val_accuracy: 0.9883 - val_loss: 0.0386\n"
          ]
        }
      ],
      "source": [
        "from tensorflow.keras import mixed_precision\n",
        "\n",
        "\n",
        "mixed_precision.set_global_policy('mixed_float16')\n",
        "\n",
        "\n",
        "BATCH_SIZE = 128\n",
        "\n",
        "\n",
        "train_ds = tf.data.Dataset.from_tensor_slices((X_train, y_train)) \\\n",
        "    .shuffle(5000) \\\n",
        "    .batch(BATCH_SIZE, drop_remainder=True) \\\n",
        "    .prefetch(tf.data.AUTOTUNE)\n",
        "\n",
        "val_ds = tf.data.Dataset.from_tensor_slices((X_val, y_val)) \\\n",
        "    .batch(BATCH_SIZE, drop_remainder=True) \\\n",
        "    .prefetch(tf.data.AUTOTUNE)\n",
        "\n",
        "model = build_bidirectional_gru_model(len(vocab))\n",
        "\n",
        "\n",
        "optimizer = mixed_precision.LossScaleOptimizer(\n",
        "    tf.keras.optimizers.Adam(learning_rate=0.002)\n",
        ")\n",
        "\n",
        "\n",
        "model.compile(\n",
        "    optimizer=optimizer,\n",
        "    loss=tf.keras.losses.SparseCategoricalCrossentropy(from_logits=True),\n",
        "    metrics=['accuracy']\n",
        ")\n",
        "\n",
        "history = model.fit(train_ds, validation_data=val_ds, epochs=10)\n"
      ]
    },
    {
      "cell_type": "code",
      "source": [],
      "metadata": {
        "id": "3ruDhbmOo05h"
      },
      "execution_count": null,
      "outputs": []
    },
    {
      "cell_type": "markdown",
      "source": [
        "##Hyperparameter Tuning Approach\n",
        "\n",
        "To improve model performance, I fine tuned key hyperparameters using  **experiments\n",
        "\n",
        "1. **Batch Size**  \n",
        "   I tested different batch sizes (64, 128,256) and selected **128** because it provided faster training and stable results.\n",
        "\n",
        "2. **Learning Rate**  \n",
        "   I started with the default `0.001` and gradually increased it. A **learning rate of `0.002`** allowed the model to converge faster while still being stable. I monitored training and validation loss to confirm this.\n",
        "\n",
        "3. **Number of Epochs**  \n",
        "   I trained the model for 2,3,4,5, 10, and epochs. Validation loss stopped improving significantly after 10 epochs, so I chose **10 epochs** to avoid overfitting and save training time.\n",
        "\n",
        "\n"
      ],
      "metadata": {
        "id": "0VXMrVgwnklJ"
      }
    }
  ],
  "metadata": {
    "colab": {
      "provenance": [],
      "machine_shape": "hm",
      "gpuType": "T4"
    },
    "kernelspec": {
      "display_name": "Python 3",
      "name": "python3"
    },
    "language_info": {
      "name": "python"
    },
    "accelerator": "GPU"
  },
  "nbformat": 4,
  "nbformat_minor": 0
}